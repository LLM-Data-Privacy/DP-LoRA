{
 "cells": [
  {
   "cell_type": "code",
   "execution_count": 1,
   "metadata": {},
   "outputs": [
    {
     "name": "stdout",
     "output_type": "stream",
     "text": [
      "Requirement already satisfied: datasets in c:\\users\\baoh2\\miniconda3\\lib\\site-packages (1.12.1)\n",
      "Requirement already satisfied: transformers in c:\\users\\baoh2\\miniconda3\\lib\\site-packages (2.1.1)\n",
      "Requirement already satisfied: torch in c:\\users\\baoh2\\miniconda3\\lib\\site-packages (2.2.0)\n",
      "Requirement already satisfied: tqdm in c:\\users\\baoh2\\miniconda3\\lib\\site-packages (4.49.0)\n",
      "Requirement already satisfied: pandas in c:\\users\\baoh2\\miniconda3\\lib\\site-packages (1.5.3)\n",
      "Requirement already satisfied: huggingface_hub in c:\\users\\baoh2\\miniconda3\\lib\\site-packages (0.0.17)\n",
      "Requirement already satisfied: xxhash in c:\\users\\baoh2\\miniconda3\\lib\\site-packages (from datasets) (2.0.2)\n",
      "Requirement already satisfied: aiohttp in c:\\users\\baoh2\\miniconda3\\lib\\site-packages (from datasets) (3.9.3)\n",
      "Requirement already satisfied: fsspec[http]>=2021.05.0 in c:\\users\\baoh2\\miniconda3\\lib\\site-packages (from datasets) (2023.10.0)\n",
      "Collecting tqdm\n",
      "  Downloading tqdm-4.66.2-py3-none-any.whl (78 kB)\n",
      "Requirement already satisfied: requests>=2.19.0 in c:\\users\\baoh2\\miniconda3\\lib\\site-packages (from datasets) (2.28.2)\n",
      "Requirement already satisfied: dill in c:\\users\\baoh2\\miniconda3\\lib\\site-packages (from datasets) (0.3.7)\n",
      "Requirement already satisfied: pyarrow!=4.0.0,>=1.0.0 in c:\\users\\baoh2\\miniconda3\\lib\\site-packages (from datasets) (3.0.0)\n",
      "Requirement already satisfied: packaging in c:\\users\\baoh2\\miniconda3\\lib\\site-packages (from datasets) (23.0)\n",
      "Requirement already satisfied: multiprocess in c:\\users\\baoh2\\miniconda3\\lib\\site-packages (from datasets) (0.70.15)\n",
      "Requirement already satisfied: numpy>=1.17 in c:\\users\\baoh2\\miniconda3\\lib\\site-packages (from datasets) (1.26.4)\n",
      "Requirement already satisfied: regex in c:\\users\\baoh2\\miniconda3\\lib\\site-packages (from transformers) (2021.8.3)\n",
      "Requirement already satisfied: boto3 in c:\\users\\baoh2\\miniconda3\\lib\\site-packages (from transformers) (1.29.1)\n",
      "Requirement already satisfied: sentencepiece in c:\\users\\baoh2\\miniconda3\\lib\\site-packages (from transformers) (0.1.99)\n",
      "Requirement already satisfied: sacremoses in c:\\users\\baoh2\\miniconda3\\lib\\site-packages (from transformers) (0.0.43)\n",
      "Requirement already satisfied: networkx in c:\\users\\baoh2\\miniconda3\\lib\\site-packages (from torch) (3.1)\n",
      "Requirement already satisfied: typing-extensions>=4.8.0 in c:\\users\\baoh2\\miniconda3\\lib\\site-packages (from torch) (4.9.0)\n",
      "Requirement already satisfied: sympy in c:\\users\\baoh2\\miniconda3\\lib\\site-packages (from torch) (1.12)\n",
      "Requirement already satisfied: filelock in c:\\users\\baoh2\\miniconda3\\lib\\site-packages (from torch) (3.13.1)\n",
      "Requirement already satisfied: jinja2 in c:\\users\\baoh2\\miniconda3\\lib\\site-packages (from torch) (3.1.2)\n",
      "Requirement already satisfied: colorama in c:\\users\\baoh2\\miniconda3\\lib\\site-packages (from tqdm) (0.4.4)\n",
      "Requirement already satisfied: python-dateutil>=2.8.1 in c:\\users\\baoh2\\miniconda3\\lib\\site-packages (from pandas) (2.8.2)\n",
      "Requirement already satisfied: pytz>=2020.1 in c:\\users\\baoh2\\miniconda3\\lib\\site-packages (from pandas) (2021.3)\n",
      "Requirement already satisfied: frozenlist>=1.1.1 in c:\\users\\baoh2\\miniconda3\\lib\\site-packages (from aiohttp->datasets) (1.4.0)\n",
      "Requirement already satisfied: attrs>=17.3.0 in c:\\users\\baoh2\\miniconda3\\lib\\site-packages (from aiohttp->datasets) (21.2.0)\n",
      "Requirement already satisfied: yarl<2.0,>=1.0 in c:\\users\\baoh2\\miniconda3\\lib\\site-packages (from aiohttp->datasets) (1.9.3)\n",
      "Requirement already satisfied: async-timeout<5.0,>=4.0 in c:\\users\\baoh2\\miniconda3\\lib\\site-packages (from aiohttp->datasets) (4.0.3)\n",
      "Requirement already satisfied: aiosignal>=1.1.2 in c:\\users\\baoh2\\miniconda3\\lib\\site-packages (from aiohttp->datasets) (1.2.0)\n",
      "Requirement already satisfied: multidict<7.0,>=4.5 in c:\\users\\baoh2\\miniconda3\\lib\\site-packages (from aiohttp->datasets) (6.0.4)\n",
      "Requirement already satisfied: six>=1.5 in c:\\users\\baoh2\\miniconda3\\lib\\site-packages (from python-dateutil>=2.8.1->pandas) (1.16.0)\n",
      "Requirement already satisfied: urllib3<1.27,>=1.21.1 in c:\\users\\baoh2\\miniconda3\\lib\\site-packages (from requests>=2.19.0->datasets) (1.26.7)\n",
      "Requirement already satisfied: certifi>=2017.4.17 in c:\\users\\baoh2\\miniconda3\\lib\\site-packages (from requests>=2.19.0->datasets) (2024.2.2)\n",
      "Requirement already satisfied: idna<4,>=2.5 in c:\\users\\baoh2\\miniconda3\\lib\\site-packages (from requests>=2.19.0->datasets) (3.2)\n",
      "Requirement already satisfied: charset-normalizer<4,>=2 in c:\\users\\baoh2\\miniconda3\\lib\\site-packages (from requests>=2.19.0->datasets) (2.0.4)\n",
      "Requirement already satisfied: botocore<1.33.0,>=1.32.1 in c:\\users\\baoh2\\miniconda3\\lib\\site-packages (from boto3->transformers) (1.32.1)\n",
      "Requirement already satisfied: jmespath<2.0.0,>=0.7.1 in c:\\users\\baoh2\\miniconda3\\lib\\site-packages (from boto3->transformers) (1.0.1)\n",
      "Requirement already satisfied: s3transfer<0.8.0,>=0.7.0 in c:\\users\\baoh2\\miniconda3\\lib\\site-packages (from boto3->transformers) (0.7.0)\n",
      "Requirement already satisfied: MarkupSafe>=2.0 in c:\\users\\baoh2\\miniconda3\\lib\\site-packages (from jinja2->torch) (2.1.2)\n",
      "Requirement already satisfied: joblib in c:\\users\\baoh2\\miniconda3\\lib\\site-packages (from sacremoses->transformers) (1.2.0)\n",
      "Requirement already satisfied: click in c:\\users\\baoh2\\miniconda3\\lib\\site-packages (from sacremoses->transformers) (8.0.1)\n",
      "Requirement already satisfied: mpmath>=0.19 in c:\\users\\baoh2\\miniconda3\\lib\\site-packages (from sympy->torch) (1.3.0)\n",
      "Installing collected packages: tqdm\n",
      "  Attempting uninstall: tqdm\n",
      "    Found existing installation: tqdm 4.49.0\n",
      "    Uninstalling tqdm-4.49.0:\n",
      "      Successfully uninstalled tqdm-4.49.0\n",
      "Successfully installed tqdm-4.66.2\n",
      "Note: you may need to restart the kernel to use updated packages.\n",
      "Requirement already satisfied: sentencepiece in c:\\users\\baoh2\\miniconda3\\lib\\site-packages (0.1.99)\n",
      "Note: you may need to restart the kernel to use updated packages.\n",
      "Note: you may need to restart the kernel to use updated packages.\n"
     ]
    },
    {
     "name": "stderr",
     "output_type": "stream",
     "text": [
      "ERROR: pip's dependency resolver does not currently take into account all the packages that are installed. This behaviour is the source of the following dependency conflicts.\n",
      "datasets 1.12.1 requires huggingface-hub<0.1.0,>=0.0.14, but you have huggingface-hub 0.21.4 which is incompatible.\n"
     ]
    }
   ],
   "source": [
    "%pip install datasets transformers torch tqdm pandas huggingface_hub\n",
    "%pip install sentencepiece\n",
    "%pip install protobuf transformers==4.30.2 cpm_kernels torch>=2.0 gradio mdtex2html sentencepiece accelerate\n"
   ]
  },
  {
   "cell_type": "code",
   "execution_count": 3,
   "metadata": {},
   "outputs": [],
   "source": [
    "import os\n",
    "import shutil\n",
    "\n",
    "jsonl_path = \"./data/dataset_new.jsonl\"\n",
    "save_path = './data/dataset_new'\n",
    "partition_path = './data/partition'\n",
    "\n",
    "\n",
    "if os.path.exists(jsonl_path):\n",
    "    os.remove(jsonl_path)\n",
    "\n",
    "if os.path.exists(save_path):\n",
    "    shutil.rmtree(save_path)\n",
    "\n",
    "directory = \"./data\"\n",
    "if not os.path.exists(directory):\n",
    "    os.makedirs(directory)"
   ]
  },
  {
   "cell_type": "markdown",
   "metadata": {},
   "source": [
    "### 1.2 Load and Prepare Dataset:\n",
    "- Import necessary libraries from the datasets package: https://huggingface.co/docs/datasets/index\n",
    "- Load the Twitter Financial News Sentiment (TFNS) dataset and convert it to a Pandas dataframe. https://huggingface.co/datasets/zeroshot/twitter-financial-news-sentiment\n",
    "- Map numerical labels to their corresponding sentiments (negative, positive, neutral).\n",
    "- Add instruction for each data entry, which is crucial for Instruction Tuning.\n",
    "- Convert the Pandas dataframe back to a Hugging Face Dataset object."
   ]
  },
  {
   "cell_type": "code",
   "execution_count": 5,
   "metadata": {},
   "outputs": [
    {
     "name": "stderr",
     "output_type": "stream",
     "text": [
      "Using custom data configuration twitter-financial-news-sentiment-daa9ce3749c6d4cd\n",
      "Reusing dataset csv (C:\\Users\\baoh2\\.cache\\huggingface\\datasets\\csv\\twitter-financial-news-sentiment-daa9ce3749c6d4cd\\0.0.0\\9144e0a4e8435090117cea53e6c7537173ef2304525df4a077c435d8ee7828ff)\n",
      "100%|██████████| 1/1 [00:00<00:00, 497.96it/s]\n"
     ]
    }
   ],
   "source": [
    "from datasets import load_dataset\n",
    "import datasets\n",
    "\n",
    "dic = {\n",
    "    0:\"negative\",\n",
    "    1:'positive',\n",
    "    2:'neutral',\n",
    "}\n",
    "\n",
    "tfns = load_dataset('zeroshot/twitter-financial-news-sentiment')\n",
    "tfns = tfns['train']\n",
    "tfns = tfns.to_pandas()\n",
    "tfns['label'] = tfns['label'].apply(lambda x:dic[x])\n",
    "tfns['instruction'] = 'What is the sentiment of this tweet? Please choose an answer from {negative/neutral/positive}.'\n",
    "tfns.columns = ['input', 'output', 'instruction']\n",
    "tfns = datasets.Dataset.from_pandas(tfns)"
   ]
  },
  {
   "cell_type": "markdown",
   "metadata": {},
   "source": [
    "### Concatenate and Shuffle dataset\n",
    "- Concatenate tfns into training set\n",
    "- Shuffle the training set\n",
    "- Partition the training set into 5 subsets\n"
   ]
  },
  {
   "cell_type": "code",
   "execution_count": null,
   "metadata": {},
   "outputs": [],
   "source": [
    "# Concatenate and shuffle datasets\n",
    "tmp_dataset = datasets.concatenate_datasets([tfns]*2)\n",
    "train_dataset = tmp_dataset\n",
    "print(tmp_dataset.num_rows)\n",
    "\n",
    "all_dataset = train_dataset.shuffle(seed = 42)\n",
    "all_dataset.shape\n",
    "\n",
    "# Partition the dataset into 5 subsets\n",
    "n = 5\n",
    "partitions = all_dataset.train_test_split(test_size=1/n)\n",
    "partitions\n"
   ]
  },
  {
   "cell_type": "markdown",
   "metadata": {},
   "source": [
    "## Dataset Formatting and Tokenization\n"
   ]
  },
  {
   "cell_type": "markdown",
   "metadata": {},
   "source": [
    "### Dataset Formatting\n"
   ]
  },
  {
   "cell_type": "code",
   "execution_count": null,
   "metadata": {},
   "outputs": [],
   "source": [
    "import json\n",
    "from tqdm.notebook import tqdm"
   ]
  },
  {
   "cell_type": "code",
   "execution_count": null,
   "metadata": {},
   "outputs": [],
   "source": [
    "def format_example(example: dict) -> dict:\n",
    "    context = f\"Instruction: {example['instruction']}\\n\"\n",
    "    if example.get(\"input\"):\n",
    "        context += f\"Input: {example['input']}\\n\"\n",
    "    context += \"Answer: \"\n",
    "    target = example[\"output\"]\n",
    "    return {\"context\": context, \"target\": target}"
   ]
  },
  {
   "cell_type": "code",
   "execution_count": null,
   "metadata": {},
   "outputs": [],
   "source": [
    "data_list = []\n",
    "for item in all_dataset.to_pandas().itertuples():\n",
    "    tmp = {}\n",
    "    tmp[\"instruction\"] = item.instruction\n",
    "    tmp[\"input\"] = item.input\n",
    "    tmp[\"output\"] = item.output\n",
    "    data_list.append(tmp)"
   ]
  },
  {
   "cell_type": "code",
   "execution_count": null,
   "metadata": {},
   "outputs": [],
   "source": [
    "# save to a jsonl file\n",
    "with open(\"../data/dataset_new.jsonl\", 'w') as f:\n",
    "    for example in tqdm(data_list, desc=\"formatting..\"):\n",
    "        f.write(json.dumps(format_example(example)) + '\\n')"
   ]
  }
 ],
 "metadata": {
  "kernelspec": {
   "display_name": "base",
   "language": "python",
   "name": "python3"
  },
  "language_info": {
   "codemirror_mode": {
    "name": "ipython",
    "version": 3
   },
   "file_extension": ".py",
   "mimetype": "text/x-python",
   "name": "python",
   "nbconvert_exporter": "python",
   "pygments_lexer": "ipython3",
   "version": "3.9.5"
  }
 },
 "nbformat": 4,
 "nbformat_minor": 2
}
