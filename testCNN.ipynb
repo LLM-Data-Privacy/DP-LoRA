{
 "cells": [
  {
   "cell_type": "markdown",
   "metadata": {},
   "source": [
    "## Import Dependencies  "
   ]
  },
  {
   "cell_type": "code",
   "execution_count": 1,
   "metadata": {},
   "outputs": [],
   "source": [
    "import torch\n",
    "import torch.nn as nn\n",
    "import torch.nn.functional as F\n",
    "import torch.optim as optim\n",
    "import torchvision\n",
    "import torchvision.transforms as transforms"
   ]
  },
  {
   "cell_type": "markdown",
   "metadata": {},
   "source": [
    "## Preparation\n",
    "Loading data from **MNist** dataset, and define image embeddings \\\\\n",
    "\n",
    "In this case, we have two separated datasets, the unpartitioned and partitioned. We perform traditional training on unpartitioned dataset and perform federated learning on partitioned dataset. The partitioned dataset would be splitted into 10 parts."
   ]
  },
  {
   "cell_type": "code",
   "execution_count": 2,
   "metadata": {},
   "outputs": [],
   "source": [
    "# Define transformations to apply to the data\n",
    "transform = transforms.Compose([\n",
    "    transforms.ToTensor(),  # Convert images to tensors\n",
    "    transforms.Normalize((0.5,), (0.5,))  # Normalize the pixel values to range [-1, 1]\n",
    "])\n",
    "\n",
    "# Load the MNIST dataset\n",
    "trainset = torchvision.datasets.MNIST(root='./data', train=True, download=True, transform=transform)\n",
    "testset = torchvision.datasets.MNIST(root='./data', train=False, download=True, transform=transform)\n",
    "\n",
    "# Define data loaders\n",
    "trainloader = torch.utils.data.DataLoader(trainset, batch_size=32, shuffle=True)\n",
    "testloader = torch.utils.data.DataLoader(testset, batch_size=32, shuffle=False)\n"
   ]
  },
  {
   "cell_type": "markdown",
   "metadata": {},
   "source": [
    "## Define Model\n",
    "Define the basic CNN model"
   ]
  },
  {
   "cell_type": "code",
   "execution_count": 3,
   "metadata": {},
   "outputs": [],
   "source": [
    "class CNN(nn.Module):\n",
    "    def __init__(self):\n",
    "        super(CNN, self).__init__()\n",
    "        self.conv1 = nn.Conv2d(1, 32, 3, 1)\n",
    "        self.conv2 = nn.Conv2d(32, 64, 3, 1)\n",
    "        self.fc1 = nn.Linear(64 * 5 * 5, 128)\n",
    "        self.fc2 = nn.Linear(128, 10)\n",
    "\n",
    "    def forward(self, x):\n",
    "        x = F.relu(self.conv1(x))\n",
    "        x = F.max_pool2d(x, 2, 2)\n",
    "        x = F.relu(self.conv2(x))\n",
    "        x = F.max_pool2d(x, 2, 2)\n",
    "        x = torch.flatten(x, 1)\n",
    "        x = F.relu(self.fc1(x))\n",
    "        x = self.fc2(x)\n",
    "        return x"
   ]
  },
  {
   "cell_type": "markdown",
   "metadata": {},
   "source": [
    "### Non-partition"
   ]
  },
  {
   "cell_type": "code",
   "execution_count": 4,
   "metadata": {},
   "outputs": [],
   "source": [
    "# Train function\n",
    "def train(model, trainloader, criterion, optimizer, epochs=5):\n",
    "    model.train()\n",
    "    for epoch in range(epochs):\n",
    "        running_loss = 0.0\n",
    "        for i, data in enumerate(trainloader, 0):\n",
    "            inputs, labels = data\n",
    "            optimizer.zero_grad()\n",
    "\n",
    "            outputs = model(inputs)\n",
    "            loss = criterion(outputs, labels)\n",
    "            loss.backward()\n",
    "            optimizer.step()\n",
    "\n",
    "            running_loss += loss.item()\n",
    "        print(f'Epoch {epoch + 1}, Loss: {running_loss / len(trainloader)}')\n",
    "\n",
    "# Test function\n",
    "def test(model, testloader, verbose=True):\n",
    "    model.eval()\n",
    "    correct = 0\n",
    "    total = 0\n",
    "    with torch.no_grad():\n",
    "        for data in testloader:\n",
    "            images, labels = data\n",
    "            outputs = model(images)\n",
    "            _, predicted = torch.max(outputs.data, 1)\n",
    "            total += labels.size(0)\n",
    "            correct += (predicted == labels).sum().item()\n",
    "\n",
    "    if verbose: print(f'Accuracy on test set: {100 * correct / total}%')\n",
    "    return 100 * correct / total"
   ]
  },
  {
   "cell_type": "code",
   "execution_count": 5,
   "metadata": {},
   "outputs": [
    {
     "name": "stdout",
     "output_type": "stream",
     "text": [
      "Training non-partitioned model...\n",
      "Epoch 1, Loss: 0.13072585075913618\n",
      "Epoch 2, Loss: 0.04525260726154472\n",
      "Epoch 3, Loss: 0.02975676988341147\n",
      "Epoch 4, Loss: 0.02270343013832074\n",
      "Epoch 5, Loss: 0.017511909474524145\n",
      "Testing non-partitioned model...\n",
      "Accuracy on test set: 98.34%\n"
     ]
    },
    {
     "data": {
      "text/plain": [
       "98.34"
      ]
     },
     "execution_count": 5,
     "metadata": {},
     "output_type": "execute_result"
    }
   ],
   "source": [
    "# Train non-partitioned model\n",
    "non_partitioned_model = CNN()\n",
    "non_partitioned_optimizer = optim.Adam(non_partitioned_model.parameters(), lr=0.001)\n",
    "non_partitioned_criterion = nn.CrossEntropyLoss()\n",
    "print(\"Training non-partitioned model...\")\n",
    "train(non_partitioned_model, trainloader, non_partitioned_criterion, non_partitioned_optimizer)\n",
    "print(\"Testing non-partitioned model...\")\n",
    "test(non_partitioned_model, testloader)"
   ]
  },
  {
   "cell_type": "markdown",
   "metadata": {},
   "source": [
    "### Partitioned"
   ]
  },
  {
   "cell_type": "code",
   "execution_count": 6,
   "metadata": {},
   "outputs": [
    {
     "name": "stdout",
     "output_type": "stream",
     "text": [
      "Training partitioned model...\n",
      "Epoch 1, Loss: 0.31955566228181126\n",
      "Epoch 2, Loss: 0.08461292896171412\n",
      "Epoch 3, Loss: 0.055219712830148635\n",
      "Epoch 4, Loss: 0.03426092845434323\n",
      "Epoch 5, Loss: 0.027789159183157608\n",
      "Epoch 6, Loss: 0.020011472643362747\n",
      "Epoch 7, Loss: 0.015462552505535616\n",
      "Epoch 8, Loss: 0.011508275477885035\n",
      "Training partitioned model...\n",
      "Epoch 1, Loss: 0.3461557805587848\n",
      "Epoch 2, Loss: 0.08790151850382487\n",
      "Epoch 3, Loss: 0.05038244249361257\n",
      "Epoch 4, Loss: 0.03793011387391016\n",
      "Epoch 5, Loss: 0.030070044342738887\n",
      "Epoch 6, Loss: 0.014550301084615058\n",
      "Epoch 7, Loss: 0.016365758438871125\n",
      "Epoch 8, Loss: 0.00964873318686538\n",
      "Training partitioned model...\n",
      "Epoch 1, Loss: 0.3532926323811213\n",
      "Epoch 2, Loss: 0.08434604577968519\n",
      "Epoch 3, Loss: 0.057701850733409325\n",
      "Epoch 4, Loss: 0.036235368460183964\n",
      "Epoch 5, Loss: 0.025447153719064468\n",
      "Epoch 6, Loss: 0.018597482095181476\n",
      "Epoch 7, Loss: 0.014087760137578394\n",
      "Epoch 8, Loss: 0.014806691641109258\n",
      "Training partitioned model...\n",
      "Epoch 1, Loss: 0.33536243538558486\n",
      "Epoch 2, Loss: 0.09508435530463855\n",
      "Epoch 3, Loss: 0.06059871774089212\n",
      "Epoch 4, Loss: 0.03796209097684671\n",
      "Epoch 5, Loss: 0.03209383672398205\n",
      "Epoch 6, Loss: 0.0175537315569624\n",
      "Epoch 7, Loss: 0.017090674165287055\n",
      "Epoch 8, Loss: 0.013575595459124694\n",
      "Training partitioned model...\n",
      "Epoch 1, Loss: 0.29021290135756134\n",
      "Epoch 2, Loss: 0.08656057123964031\n",
      "Epoch 3, Loss: 0.054148077229193105\n",
      "Epoch 4, Loss: 0.03424714541536135\n",
      "Epoch 5, Loss: 0.02558286978956312\n",
      "Epoch 6, Loss: 0.021711244775302476\n",
      "Epoch 7, Loss: 0.018964917317673097\n",
      "Epoch 8, Loss: 0.00892266763286898\n",
      "Aggregating model updates...\n"
     ]
    }
   ],
   "source": [
    "# Train partitioned model (simulate federated learning)\n",
    "partition_size = len(trainset) // 5\n",
    "data_partitions = [torch.utils.data.Subset(trainset, range(i * partition_size, (i + 1) * partition_size))\n",
    "                   for i in range(5)]\n",
    "\n",
    "partitioned_models = []\n",
    "partitioned_optimizers = []\n",
    "for _ in range(5):\n",
    "    model = CNN()\n",
    "    optimizer = optim.Adam(model.parameters(), lr=0.001)\n",
    "    criterion = nn.CrossEntropyLoss()\n",
    "    print(\"Training partitioned model...\")\n",
    "    train(model, torch.utils.data.DataLoader(data_partitions[_], batch_size=32, shuffle=True), criterion, optimizer, epochs=8)\n",
    "    partitioned_models.append(model)\n",
    "    partitioned_optimizers.append(optimizer)\n",
    "    \n",
    "    \n",
    "# Computing Weight Averaging\n",
    "partition_accuracy = [test(model, testloader, verbose=False) for model in partitioned_models]\n",
    "total_accuracy = sum(partition_accuracy)\n",
    "weights = [accuracy / total_accuracy for accuracy in partition_accuracy]\n",
    "\n",
    "# Aggregate model updates\n",
    "print(\"Aggregating model updates...\")\n",
    "aggregated_model = CNN()\n",
    "for params_target in aggregated_model.parameters():\n",
    "    params_target.data *= 0\n",
    "\n",
    "for i in range(5):\n",
    "    weight = weights[i]\n",
    "    for params_source, params_target in zip(partitioned_models[i].parameters(), aggregated_model.parameters()):\n",
    "        params_target.data += weight * params_source.data\n",
    "\n",
    "# # Average aggregated model parameters\n",
    "# for params_target in partitioned_models[0].parameters():\n",
    "#     params_target.data /= 5\n",
    "\n",
    "aggregated_model = partitioned_models[0]"
   ]
  },
  {
   "cell_type": "code",
   "execution_count": 7,
   "metadata": {},
   "outputs": [
    {
     "name": "stdout",
     "output_type": "stream",
     "text": [
      "Testing aggregated model...\n",
      "Accuracy on test set: 98.51%\n"
     ]
    },
    {
     "data": {
      "text/plain": [
       "98.51"
      ]
     },
     "execution_count": 7,
     "metadata": {},
     "output_type": "execute_result"
    }
   ],
   "source": [
    "# Test federated model\n",
    "print(\"Testing aggregated model...\")\n",
    "test(aggregated_model, testloader)"
   ]
  },
  {
   "cell_type": "code",
   "execution_count": 21,
   "metadata": {},
   "outputs": [
    {
     "name": "stdout",
     "output_type": "stream",
     "text": [
      "[98.06, 98.46, 98.57, 98.03, 98.52]\n"
     ]
    }
   ],
   "source": [
    "print(partition_accuracy)"
   ]
  }
 ],
 "metadata": {
  "kernelspec": {
   "display_name": "base",
   "language": "python",
   "name": "python3"
  },
  "language_info": {
   "codemirror_mode": {
    "name": "ipython",
    "version": 3
   },
   "file_extension": ".py",
   "mimetype": "text/x-python",
   "name": "python",
   "nbconvert_exporter": "python",
   "pygments_lexer": "ipython3",
   "version": "3.11.5"
  }
 },
 "nbformat": 4,
 "nbformat_minor": 2
}
