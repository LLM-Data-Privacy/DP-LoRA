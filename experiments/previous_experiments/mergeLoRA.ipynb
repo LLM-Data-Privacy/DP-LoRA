{
  "cells": [
    {
      "cell_type": "code",
      "execution_count": null,
      "metadata": {
        "id": "Ylhsf_IojpIx"
      },
      "outputs": [],
      "source": [
        "!pip install transformers==4.30.2\n",
        "!pip install peft -U\n",
        "!pip install torch\n"
      ]
    },
    {
      "cell_type": "code",
      "execution_count": null,
      "metadata": {
        "id": "xEHENFeDlABC"
      },
      "outputs": [],
      "source": [
        "!pip install accelerate -U\n",
        "!pip install bitsandbytes -U"
      ]
    },
    {
      "cell_type": "code",
      "execution_count": 8,
      "metadata": {
        "colab": {
          "base_uri": "https://localhost:8080/"
        },
        "id": "8SJiWz-2m8er",
        "outputId": "683b75ec-a0bf-4359-c62b-fdb36a4a3517"
      },
      "outputs": [
        {
          "name": "stdout",
          "output_type": "stream",
          "text": [
            "Archive:  saved_model_0.zip\n",
            "   creating: content/finetuned_model_0/\n",
            "  inflating: content/finetuned_model_0/adapter_model.safetensors  \n",
            "   creating: content/finetuned_model_0/runs/\n",
            "   creating: content/finetuned_model_0/runs/Mar21_21-31-09_206f311006a2/\n",
            "  inflating: content/finetuned_model_0/runs/Mar21_21-31-09_206f311006a2/events.out.tfevents.1711056823.206f311006a2.10532.1  \n",
            "  inflating: content/finetuned_model_0/README.md  \n",
            "  inflating: content/finetuned_model_0/adapter_config.json  \n",
            "Archive:  saved_model_1.zip\n",
            "   creating: content/finetuned_model_1/\n",
            "  inflating: content/finetuned_model_1/adapter_model.safetensors  \n",
            "   creating: content/finetuned_model_1/runs/\n",
            "   creating: content/finetuned_model_1/runs/Mar22_01-57-45_6c2d907036cd/\n",
            "  inflating: content/finetuned_model_1/runs/Mar22_01-57-45_6c2d907036cd/events.out.tfevents.1711072848.6c2d907036cd.1909.1  \n",
            "  inflating: content/finetuned_model_1/README.md  \n",
            "  inflating: content/finetuned_model_1/adapter_config.json  \n",
            "Archive:  saved_model_2.zip\n",
            "replace content/finetuned_model_1/adapter_model.safetensors? [y]es, [n]o, [A]ll, [N]one, [r]ename: r\n",
            "new name: content/finetuned_model_2/adapter_model.safetensors\n",
            "  inflating: content/finetuned_model_2/adapter_model.safetensors  \n",
            "replace content/finetuned_model_1/runs/Mar22_01-57-45_6c2d907036cd/events.out.tfevents.1711072848.6c2d907036cd.1909.1? [y]es, [n]o, [A]ll, [N]one, [r]ename: r\n",
            "new name:  content/finetuned_model_2/runs/Mar22_01-57-45_6c2d907036cd/events.out.tfevents.1711072848.6c2d907036cd.1909.1\n",
            "  inflating:  content/finetuned_model_2/runs/Mar22_01-57-45_6c2d907036cd/events.out.tfevents.1711072848.6c2d907036cd.1909.1  \n",
            "  inflating: content/finetuned_model_1/runs/Mar22_01-57-45_6c2d907036cd/events.out.tfevents.1711075517.6c2d907036cd.1909.3  \n",
            "replace content/finetuned_model_1/README.md? [y]es, [n]o, [A]ll, [N]one, [r]ename: r\n",
            "new name: content/finetuned_model_2/README.md\n",
            "  inflating: content/finetuned_model_2/README.md  \n",
            "replace content/finetuned_model_1/adapter_config.json? [y]es, [n]o, [A]ll, [N]one, [r]ename: r\n",
            "new name: content/finetuned_model_2/adapter_config.json\n",
            "  inflating: content/finetuned_model_2/adapter_config.json  \n"
          ]
        }
      ],
      "source": [
        "!unzip saved_model_0.zip\n",
        "!unzip saved_model_1.zip\n",
        "!unzip saved_model_2.zip"
      ]
    },
    {
      "cell_type": "code",
      "execution_count": 9,
      "metadata": {
        "id": "n-60jXW2kDEh"
      },
      "outputs": [],
      "source": [
        "from transformers import AutoTokenizer, AutoModel, AutoConfig\n",
        "from peft import PeftConfig, PeftModel\n",
        "import torch\n",
        "import accelerate\n",
        "import bitsandbytes"
      ]
    },
    {
      "cell_type": "code",
      "execution_count": 11,
      "metadata": {
        "id": "2pAGLi_Wkj5S"
      },
      "outputs": [],
      "source": [
        "# Paths to your models\n",
        "model_paths = [\"./models/finetuned_model_0\", \"./models/finetuned_model_1\", \"./models/finetuned_model_2\"]"
      ]
    },
    {
      "cell_type": "code",
      "execution_count": 12,
      "metadata": {
        "colab": {
          "base_uri": "https://localhost:8080/",
          "height": 49,
          "referenced_widgets": [
            "982849813d5642d489ebb1c84f2958f3",
            "56759cabedeb450c80cb9b10ffe3862c",
            "90d21aa03843423a9d9c9bda229f137d",
            "945199dc2d27484d9b481851e79a0531",
            "d61d696a646e4b98886bed1faefd3858",
            "5d9f3882bf2c47769f1d0729a658550b",
            "f1739672971b4a45b237d83e21d185fa",
            "15f62671fef84e26b260bf84ecebe313",
            "4c4fa48907884384aff182223c7a40d5",
            "2a0986fe94d74ab19f5a5f57a6b7b84e",
            "339151e093de4c6697e9ac26def97f3e"
          ]
        },
        "id": "enVDSQSxkq7v",
        "outputId": "102a75cd-c443-425a-e024-02a592b2a779"
      },
      "outputs": [
        {
          "data": {
            "application/vnd.jupyter.widget-view+json": {
              "model_id": "982849813d5642d489ebb1c84f2958f3",
              "version_major": 2,
              "version_minor": 0
            },
            "text/plain": [
              "Loading checkpoint shards:   0%|          | 0/7 [00:00<?, ?it/s]"
            ]
          },
          "metadata": {},
          "output_type": "display_data"
        }
      ],
      "source": [
        "model_name = \"THUDM/chatglm2-6b\"\n",
        "tokenizer = AutoTokenizer.from_pretrained(model_name, trust_remote_code=True)\n",
        "model = AutoModel.from_pretrained(model_name, trust_remote_code=True, load_in_8bit=True, device=\"cuda\")"
      ]
    },
    {
      "cell_type": "code",
      "execution_count": 13,
      "metadata": {
        "id": "a9gCXyC5ktzF"
      },
      "outputs": [],
      "source": [
        "model = PeftModel.from_pretrained(model, model_paths[0], adapter_name='Institute_0')\n",
        "_ = model.load_adapter(model_paths[1], adapter_name='Institute_1')\n",
        "_ = model.load_adapter(model_paths[2], adapter_name='Institute_2')"
      ]
    },
    {
      "cell_type": "code",
      "execution_count": 14,
      "metadata": {
        "id": "6fY_aWJVkvXP"
      },
      "outputs": [],
      "source": [
        "adapters = [\"Institute_0\", \"Institute_1\", \"Institute_2\"]\n",
        "weights = [1.0, 1.0, 1.0]\n",
        "adapter_name = \"merge\"\n",
        "density = 0.2\n",
        "model.add_weighted_adapter(adapters, weights, adapter_name, combination_type=\"linear\")"
      ]
    },
    {
      "cell_type": "code",
      "execution_count": 15,
      "metadata": {
        "id": "4rkO2UEgkwJW"
      },
      "outputs": [],
      "source": [
        "model.set_adapter(\"merge\")"
      ]
    },
    {
      "cell_type": "code",
      "execution_count": 16,
      "metadata": {
        "id": "rRrLlm0WkyFC"
      },
      "outputs": [],
      "source": [
        "# Save the new model\n",
        "output_model_path = \"./aggregated_model\"\n",
        "model.save_pretrained(output_model_path)"
      ]
    },
    {
      "cell_type": "code",
      "execution_count": 18,
      "metadata": {
        "id": "T6FHr8E9q3Eb"
      },
      "outputs": [],
      "source": [
        "model.add_weighted_adapter(adapters, weights, \"merge_ties\", combination_type=\"ties\", density=density)\n",
        "output_model_path = \"./aggregated_model\"\n",
        "model.save_pretrained(output_model_path)"
      ]
    },
    {
      "cell_type": "code",
      "execution_count": 19,
      "metadata": {
        "colab": {
          "base_uri": "https://localhost:8080/"
        },
        "id": "tL89zx7Opjsr",
        "outputId": "b43f4683-2ce6-4d52-b719-878591d36322"
      },
      "outputs": [
        {
          "name": "stdout",
          "output_type": "stream",
          "text": [
            "updating: aggregated_model/ (stored 0%)\n",
            "updating: aggregated_model/README.md (deflated 66%)\n",
            "updating: aggregated_model/Institute_2/ (stored 0%)\n",
            "updating: aggregated_model/Institute_2/adapter_config.json (deflated 50%)\n",
            "updating: aggregated_model/Institute_2/adapter_model.safetensors (deflated 7%)\n",
            "updating: aggregated_model/Institute_1/ (stored 0%)\n",
            "updating: aggregated_model/Institute_1/adapter_config.json (deflated 50%)\n",
            "updating: aggregated_model/Institute_1/adapter_model.safetensors (deflated 7%)\n",
            "updating: aggregated_model/merge/ (stored 0%)\n",
            "updating: aggregated_model/merge/adapter_config.json (deflated 51%)\n",
            "updating: aggregated_model/merge/adapter_model.safetensors (deflated 35%)\n",
            "updating: aggregated_model/Institute_0/ (stored 0%)\n",
            "updating: aggregated_model/Institute_0/adapter_config.json (deflated 50%)\n",
            "updating: aggregated_model/Institute_0/adapter_model.safetensors (deflated 7%)\n",
            "  adding: aggregated_model/merge_ties/ (stored 0%)\n",
            "  adding: aggregated_model/merge_ties/adapter_config.json (deflated 51%)\n",
            "  adding: aggregated_model/merge_ties/adapter_model.safetensors (deflated 62%)\n"
          ]
        }
      ],
      "source": [
        "!zip -r ./aggregated_model.zip ./aggregated_model"
      ]
    },
    {
      "cell_type": "markdown",
      "metadata": {
        "id": "8Btz_xyksyPQ"
      },
      "source": [
        "### Inference"
      ]
    },
    {
      "cell_type": "code",
      "execution_count": 20,
      "metadata": {
        "colab": {
          "base_uri": "https://localhost:8080/"
        },
        "id": "RQRgRL-otcu3",
        "outputId": "19679c29-04ed-446e-c817-4afaab57eeb9"
      },
      "outputs": [
        {
          "name": "stdout",
          "output_type": "stream",
          "text": [
            "Cloning into 'FinNLP'...\n",
            "remote: Enumerating objects: 1412, done.\u001b[K\n",
            "remote: Counting objects: 100% (471/471), done.\u001b[K\n",
            "remote: Compressing objects: 100% (205/205), done.\u001b[K\n",
            "remote: Total 1412 (delta 244), reused 433 (delta 224), pack-reused 941\u001b[K\n",
            "Receiving objects: 100% (1412/1412), 4.97 MiB | 15.71 MiB/s, done.\n",
            "Resolving deltas: 100% (617/617), done.\n"
          ]
        }
      ],
      "source": [
        "#clone the FinNLP repository\n",
        "!git clone https://github.com/AI4Finance-Foundation/FinNLP.git\n",
        "\n",
        "import sys\n",
        "sys.path.append('/content/FinNLP/')"
      ]
    },
    {
      "cell_type": "code",
      "execution_count": 22,
      "metadata": {
        "colab": {
          "base_uri": "https://localhost:8080/"
        },
        "id": "Go1Ux5cPtkwK",
        "outputId": "84c366be-f928-479e-b62f-40bdd1234b69"
      },
      "outputs": [
        {
          "name": "stdout",
          "output_type": "stream",
          "text": [
            "Collecting datasets\n",
            "  Downloading datasets-2.18.0-py3-none-any.whl (510 kB)\n",
            "\u001b[2K     \u001b[90m━━━━━━━━━━━━━━━━━━━━━━━━━━━━━━━━━━━━━━━━\u001b[0m \u001b[32m510.5/510.5 kB\u001b[0m \u001b[31m10.7 MB/s\u001b[0m eta \u001b[36m0:00:00\u001b[0m\n",
            "\u001b[?25hRequirement already satisfied: filelock in /usr/local/lib/python3.10/dist-packages (from datasets) (3.13.1)\n",
            "Requirement already satisfied: numpy>=1.17 in /usr/local/lib/python3.10/dist-packages (from datasets) (1.25.2)\n",
            "Requirement already satisfied: pyarrow>=12.0.0 in /usr/local/lib/python3.10/dist-packages (from datasets) (14.0.2)\n",
            "Requirement already satisfied: pyarrow-hotfix in /usr/local/lib/python3.10/dist-packages (from datasets) (0.6)\n",
            "Collecting dill<0.3.9,>=0.3.0 (from datasets)\n",
            "  Downloading dill-0.3.8-py3-none-any.whl (116 kB)\n",
            "\u001b[2K     \u001b[90m━━━━━━━━━━━━━━━━━━━━━━━━━━━━━━━━━━━━━━━━\u001b[0m \u001b[32m116.3/116.3 kB\u001b[0m \u001b[31m20.0 MB/s\u001b[0m eta \u001b[36m0:00:00\u001b[0m\n",
            "\u001b[?25hRequirement already satisfied: pandas in /usr/local/lib/python3.10/dist-packages (from datasets) (1.5.3)\n",
            "Requirement already satisfied: requests>=2.19.0 in /usr/local/lib/python3.10/dist-packages (from datasets) (2.31.0)\n",
            "Requirement already satisfied: tqdm>=4.62.1 in /usr/local/lib/python3.10/dist-packages (from datasets) (4.66.2)\n",
            "Collecting xxhash (from datasets)\n",
            "  Downloading xxhash-3.4.1-cp310-cp310-manylinux_2_17_x86_64.manylinux2014_x86_64.whl (194 kB)\n",
            "\u001b[2K     \u001b[90m━━━━━━━━━━━━━━━━━━━━━━━━━━━━━━━━━━━━━━━━\u001b[0m \u001b[32m194.1/194.1 kB\u001b[0m \u001b[31m28.1 MB/s\u001b[0m eta \u001b[36m0:00:00\u001b[0m\n",
            "\u001b[?25hCollecting multiprocess (from datasets)\n",
            "  Downloading multiprocess-0.70.16-py310-none-any.whl (134 kB)\n",
            "\u001b[2K     \u001b[90m━━━━━━━━━━━━━━━━━━━━━━━━━━━━━━━━━━━━━━━━\u001b[0m \u001b[32m134.8/134.8 kB\u001b[0m \u001b[31m23.0 MB/s\u001b[0m eta \u001b[36m0:00:00\u001b[0m\n",
            "\u001b[?25hRequirement already satisfied: fsspec[http]<=2024.2.0,>=2023.1.0 in /usr/local/lib/python3.10/dist-packages (from datasets) (2023.6.0)\n",
            "Requirement already satisfied: aiohttp in /usr/local/lib/python3.10/dist-packages (from datasets) (3.9.3)\n",
            "Requirement already satisfied: huggingface-hub>=0.19.4 in /usr/local/lib/python3.10/dist-packages (from datasets) (0.20.3)\n",
            "Requirement already satisfied: packaging in /usr/local/lib/python3.10/dist-packages (from datasets) (24.0)\n",
            "Requirement already satisfied: pyyaml>=5.1 in /usr/local/lib/python3.10/dist-packages (from datasets) (6.0.1)\n",
            "Requirement already satisfied: aiosignal>=1.1.2 in /usr/local/lib/python3.10/dist-packages (from aiohttp->datasets) (1.3.1)\n",
            "Requirement already satisfied: attrs>=17.3.0 in /usr/local/lib/python3.10/dist-packages (from aiohttp->datasets) (23.2.0)\n",
            "Requirement already satisfied: frozenlist>=1.1.1 in /usr/local/lib/python3.10/dist-packages (from aiohttp->datasets) (1.4.1)\n",
            "Requirement already satisfied: multidict<7.0,>=4.5 in /usr/local/lib/python3.10/dist-packages (from aiohttp->datasets) (6.0.5)\n",
            "Requirement already satisfied: yarl<2.0,>=1.0 in /usr/local/lib/python3.10/dist-packages (from aiohttp->datasets) (1.9.4)\n",
            "Requirement already satisfied: async-timeout<5.0,>=4.0 in /usr/local/lib/python3.10/dist-packages (from aiohttp->datasets) (4.0.3)\n",
            "Requirement already satisfied: typing-extensions>=3.7.4.3 in /usr/local/lib/python3.10/dist-packages (from huggingface-hub>=0.19.4->datasets) (4.10.0)\n",
            "Requirement already satisfied: charset-normalizer<4,>=2 in /usr/local/lib/python3.10/dist-packages (from requests>=2.19.0->datasets) (3.3.2)\n",
            "Requirement already satisfied: idna<4,>=2.5 in /usr/local/lib/python3.10/dist-packages (from requests>=2.19.0->datasets) (3.6)\n",
            "Requirement already satisfied: urllib3<3,>=1.21.1 in /usr/local/lib/python3.10/dist-packages (from requests>=2.19.0->datasets) (2.0.7)\n",
            "Requirement already satisfied: certifi>=2017.4.17 in /usr/local/lib/python3.10/dist-packages (from requests>=2.19.0->datasets) (2024.2.2)\n",
            "Requirement already satisfied: python-dateutil>=2.8.1 in /usr/local/lib/python3.10/dist-packages (from pandas->datasets) (2.8.2)\n",
            "Requirement already satisfied: pytz>=2020.1 in /usr/local/lib/python3.10/dist-packages (from pandas->datasets) (2023.4)\n",
            "Requirement already satisfied: six>=1.5 in /usr/local/lib/python3.10/dist-packages (from python-dateutil>=2.8.1->pandas->datasets) (1.16.0)\n",
            "Installing collected packages: xxhash, dill, multiprocess, datasets\n",
            "Successfully installed datasets-2.18.0 dill-0.3.8 multiprocess-0.70.16 xxhash-3.4.1\n"
          ]
        }
      ],
      "source": [
        "!pip install datasets"
      ]
    },
    {
      "cell_type": "code",
      "execution_count": 23,
      "metadata": {
        "id": "3ibyNqDYtTyd"
      },
      "outputs": [],
      "source": [
        "# Load benchmark datasets from FinNLP\n",
        "import datasets\n",
        "from finnlp.benchmarks.fpb import test_fpb\n",
        "from finnlp.benchmarks.fiqa import test_fiqa , add_instructions\n",
        "from finnlp.benchmarks.tfns import test_tfns\n",
        "from finnlp.benchmarks.nwgi import test_nwgi"
      ]
    },
    {
      "cell_type": "code",
      "execution_count": 24,
      "metadata": {
        "id": "FOYqLVOdsxzM"
      },
      "outputs": [],
      "source": [
        "model.set_adapter(\"merge\")\n"
      ]
    },
    {
      "cell_type": "code",
      "execution_count": 28,
      "metadata": {
        "id": "xoTSKZsvtE7-"
      },
      "outputs": [],
      "source": [
        "batch_size = 40"
      ]
    },
    {
      "cell_type": "markdown",
      "metadata": {
        "id": "rQqiH-V_tyja"
      },
      "source": [
        "before: 79.8 units\n"
      ]
    },
    {
      "cell_type": "code",
      "execution_count": 29,
      "metadata": {
        "colab": {
          "base_uri": "https://localhost:8080/"
        },
        "id": "0YyzA0D6tIrK",
        "outputId": "2c6ba7d5-869f-41ea-d597-ac254ab008e2"
      },
      "outputs": [
        {
          "name": "stdout",
          "output_type": "stream",
          "text": [
            "\n",
            "\n",
            "Prompt example:\n",
            "Instruction: What is the sentiment of this tweet? Please choose an answer from {negative/neutral/positive}.\n",
            "Input: $ALLY - Ally Financial pulls outlook https://t.co/G9Zdi1boy5\n",
            "Answer: \n",
            "\n",
            "\n",
            "Total len: 2388. Batchsize: 40. Total steps: 60\n"
          ]
        },
        {
          "name": "stderr",
          "output_type": "stream",
          "text": [
            "100%|██████████| 60/60 [1:11:13<00:00, 71.23s/it]"
          ]
        },
        {
          "name": "stdout",
          "output_type": "stream",
          "text": [
            "Acc: 0.6557788944723618. F1 macro: 0.26403641881638845. F1 micro: 0.6557788944723618. F1 weighted (BloombergGPT): 0.5194485324955582. \n"
          ]
        },
        {
          "name": "stderr",
          "output_type": "stream",
          "text": [
            "\n"
          ]
        }
      ],
      "source": [
        "# TFNS Test Set, len 2388\n",
        "# Available: 84.85 compute units\n",
        "res = test_tfns(model, tokenizer, batch_size = batch_size)\n",
        "# Available: 83.75 compute units\n",
        "# Took about 1 compute unite to inference"
      ]
    },
    {
      "cell_type": "markdown",
      "metadata": {
        "id": "Avv8gwrUAtMF"
      },
      "source": [
        "After: 63.46 Units\n",
        "Accuracy: 0.655\n",
        "F1 Macro: 0.264\n",
        "F1 micro: 0.656\n",
        "F1 weighted (BloombergGPT): 0.51944"
      ]
    }
  ],
  "metadata": {
    "accelerator": "GPU",
    "colab": {
      "gpuType": "A100",
      "machine_shape": "hm",
      "provenance": []
    },
    "kernelspec": {
      "display_name": "Python 3",
      "name": "python3"
    },
    "language_info": {
      "name": "python",
      "version": "3.9.18"
    },
    "widgets": {
      "application/vnd.jupyter.widget-state+json": {
        "15f62671fef84e26b260bf84ecebe313": {
          "model_module": "@jupyter-widgets/base",
          "model_module_version": "1.2.0",
          "model_name": "LayoutModel",
          "state": {
            "_model_module": "@jupyter-widgets/base",
            "_model_module_version": "1.2.0",
            "_model_name": "LayoutModel",
            "_view_count": null,
            "_view_module": "@jupyter-widgets/base",
            "_view_module_version": "1.2.0",
            "_view_name": "LayoutView",
            "align_content": null,
            "align_items": null,
            "align_self": null,
            "border": null,
            "bottom": null,
            "display": null,
            "flex": null,
            "flex_flow": null,
            "grid_area": null,
            "grid_auto_columns": null,
            "grid_auto_flow": null,
            "grid_auto_rows": null,
            "grid_column": null,
            "grid_gap": null,
            "grid_row": null,
            "grid_template_areas": null,
            "grid_template_columns": null,
            "grid_template_rows": null,
            "height": null,
            "justify_content": null,
            "justify_items": null,
            "left": null,
            "margin": null,
            "max_height": null,
            "max_width": null,
            "min_height": null,
            "min_width": null,
            "object_fit": null,
            "object_position": null,
            "order": null,
            "overflow": null,
            "overflow_x": null,
            "overflow_y": null,
            "padding": null,
            "right": null,
            "top": null,
            "visibility": null,
            "width": null
          }
        },
        "2a0986fe94d74ab19f5a5f57a6b7b84e": {
          "model_module": "@jupyter-widgets/base",
          "model_module_version": "1.2.0",
          "model_name": "LayoutModel",
          "state": {
            "_model_module": "@jupyter-widgets/base",
            "_model_module_version": "1.2.0",
            "_model_name": "LayoutModel",
            "_view_count": null,
            "_view_module": "@jupyter-widgets/base",
            "_view_module_version": "1.2.0",
            "_view_name": "LayoutView",
            "align_content": null,
            "align_items": null,
            "align_self": null,
            "border": null,
            "bottom": null,
            "display": null,
            "flex": null,
            "flex_flow": null,
            "grid_area": null,
            "grid_auto_columns": null,
            "grid_auto_flow": null,
            "grid_auto_rows": null,
            "grid_column": null,
            "grid_gap": null,
            "grid_row": null,
            "grid_template_areas": null,
            "grid_template_columns": null,
            "grid_template_rows": null,
            "height": null,
            "justify_content": null,
            "justify_items": null,
            "left": null,
            "margin": null,
            "max_height": null,
            "max_width": null,
            "min_height": null,
            "min_width": null,
            "object_fit": null,
            "object_position": null,
            "order": null,
            "overflow": null,
            "overflow_x": null,
            "overflow_y": null,
            "padding": null,
            "right": null,
            "top": null,
            "visibility": null,
            "width": null
          }
        },
        "339151e093de4c6697e9ac26def97f3e": {
          "model_module": "@jupyter-widgets/controls",
          "model_module_version": "1.5.0",
          "model_name": "DescriptionStyleModel",
          "state": {
            "_model_module": "@jupyter-widgets/controls",
            "_model_module_version": "1.5.0",
            "_model_name": "DescriptionStyleModel",
            "_view_count": null,
            "_view_module": "@jupyter-widgets/base",
            "_view_module_version": "1.2.0",
            "_view_name": "StyleView",
            "description_width": ""
          }
        },
        "4c4fa48907884384aff182223c7a40d5": {
          "model_module": "@jupyter-widgets/controls",
          "model_module_version": "1.5.0",
          "model_name": "ProgressStyleModel",
          "state": {
            "_model_module": "@jupyter-widgets/controls",
            "_model_module_version": "1.5.0",
            "_model_name": "ProgressStyleModel",
            "_view_count": null,
            "_view_module": "@jupyter-widgets/base",
            "_view_module_version": "1.2.0",
            "_view_name": "StyleView",
            "bar_color": null,
            "description_width": ""
          }
        },
        "56759cabedeb450c80cb9b10ffe3862c": {
          "model_module": "@jupyter-widgets/controls",
          "model_module_version": "1.5.0",
          "model_name": "HTMLModel",
          "state": {
            "_dom_classes": [],
            "_model_module": "@jupyter-widgets/controls",
            "_model_module_version": "1.5.0",
            "_model_name": "HTMLModel",
            "_view_count": null,
            "_view_module": "@jupyter-widgets/controls",
            "_view_module_version": "1.5.0",
            "_view_name": "HTMLView",
            "description": "",
            "description_tooltip": null,
            "layout": "IPY_MODEL_5d9f3882bf2c47769f1d0729a658550b",
            "placeholder": "​",
            "style": "IPY_MODEL_f1739672971b4a45b237d83e21d185fa",
            "value": "Loading checkpoint shards: 100%"
          }
        },
        "5d9f3882bf2c47769f1d0729a658550b": {
          "model_module": "@jupyter-widgets/base",
          "model_module_version": "1.2.0",
          "model_name": "LayoutModel",
          "state": {
            "_model_module": "@jupyter-widgets/base",
            "_model_module_version": "1.2.0",
            "_model_name": "LayoutModel",
            "_view_count": null,
            "_view_module": "@jupyter-widgets/base",
            "_view_module_version": "1.2.0",
            "_view_name": "LayoutView",
            "align_content": null,
            "align_items": null,
            "align_self": null,
            "border": null,
            "bottom": null,
            "display": null,
            "flex": null,
            "flex_flow": null,
            "grid_area": null,
            "grid_auto_columns": null,
            "grid_auto_flow": null,
            "grid_auto_rows": null,
            "grid_column": null,
            "grid_gap": null,
            "grid_row": null,
            "grid_template_areas": null,
            "grid_template_columns": null,
            "grid_template_rows": null,
            "height": null,
            "justify_content": null,
            "justify_items": null,
            "left": null,
            "margin": null,
            "max_height": null,
            "max_width": null,
            "min_height": null,
            "min_width": null,
            "object_fit": null,
            "object_position": null,
            "order": null,
            "overflow": null,
            "overflow_x": null,
            "overflow_y": null,
            "padding": null,
            "right": null,
            "top": null,
            "visibility": null,
            "width": null
          }
        },
        "90d21aa03843423a9d9c9bda229f137d": {
          "model_module": "@jupyter-widgets/controls",
          "model_module_version": "1.5.0",
          "model_name": "FloatProgressModel",
          "state": {
            "_dom_classes": [],
            "_model_module": "@jupyter-widgets/controls",
            "_model_module_version": "1.5.0",
            "_model_name": "FloatProgressModel",
            "_view_count": null,
            "_view_module": "@jupyter-widgets/controls",
            "_view_module_version": "1.5.0",
            "_view_name": "ProgressView",
            "bar_style": "success",
            "description": "",
            "description_tooltip": null,
            "layout": "IPY_MODEL_15f62671fef84e26b260bf84ecebe313",
            "max": 7,
            "min": 0,
            "orientation": "horizontal",
            "style": "IPY_MODEL_4c4fa48907884384aff182223c7a40d5",
            "value": 7
          }
        },
        "945199dc2d27484d9b481851e79a0531": {
          "model_module": "@jupyter-widgets/controls",
          "model_module_version": "1.5.0",
          "model_name": "HTMLModel",
          "state": {
            "_dom_classes": [],
            "_model_module": "@jupyter-widgets/controls",
            "_model_module_version": "1.5.0",
            "_model_name": "HTMLModel",
            "_view_count": null,
            "_view_module": "@jupyter-widgets/controls",
            "_view_module_version": "1.5.0",
            "_view_name": "HTMLView",
            "description": "",
            "description_tooltip": null,
            "layout": "IPY_MODEL_2a0986fe94d74ab19f5a5f57a6b7b84e",
            "placeholder": "​",
            "style": "IPY_MODEL_339151e093de4c6697e9ac26def97f3e",
            "value": " 7/7 [00:16&lt;00:00,  2.09s/it]"
          }
        },
        "982849813d5642d489ebb1c84f2958f3": {
          "model_module": "@jupyter-widgets/controls",
          "model_module_version": "1.5.0",
          "model_name": "HBoxModel",
          "state": {
            "_dom_classes": [],
            "_model_module": "@jupyter-widgets/controls",
            "_model_module_version": "1.5.0",
            "_model_name": "HBoxModel",
            "_view_count": null,
            "_view_module": "@jupyter-widgets/controls",
            "_view_module_version": "1.5.0",
            "_view_name": "HBoxView",
            "box_style": "",
            "children": [
              "IPY_MODEL_56759cabedeb450c80cb9b10ffe3862c",
              "IPY_MODEL_90d21aa03843423a9d9c9bda229f137d",
              "IPY_MODEL_945199dc2d27484d9b481851e79a0531"
            ],
            "layout": "IPY_MODEL_d61d696a646e4b98886bed1faefd3858"
          }
        },
        "d61d696a646e4b98886bed1faefd3858": {
          "model_module": "@jupyter-widgets/base",
          "model_module_version": "1.2.0",
          "model_name": "LayoutModel",
          "state": {
            "_model_module": "@jupyter-widgets/base",
            "_model_module_version": "1.2.0",
            "_model_name": "LayoutModel",
            "_view_count": null,
            "_view_module": "@jupyter-widgets/base",
            "_view_module_version": "1.2.0",
            "_view_name": "LayoutView",
            "align_content": null,
            "align_items": null,
            "align_self": null,
            "border": null,
            "bottom": null,
            "display": null,
            "flex": null,
            "flex_flow": null,
            "grid_area": null,
            "grid_auto_columns": null,
            "grid_auto_flow": null,
            "grid_auto_rows": null,
            "grid_column": null,
            "grid_gap": null,
            "grid_row": null,
            "grid_template_areas": null,
            "grid_template_columns": null,
            "grid_template_rows": null,
            "height": null,
            "justify_content": null,
            "justify_items": null,
            "left": null,
            "margin": null,
            "max_height": null,
            "max_width": null,
            "min_height": null,
            "min_width": null,
            "object_fit": null,
            "object_position": null,
            "order": null,
            "overflow": null,
            "overflow_x": null,
            "overflow_y": null,
            "padding": null,
            "right": null,
            "top": null,
            "visibility": null,
            "width": null
          }
        },
        "f1739672971b4a45b237d83e21d185fa": {
          "model_module": "@jupyter-widgets/controls",
          "model_module_version": "1.5.0",
          "model_name": "DescriptionStyleModel",
          "state": {
            "_model_module": "@jupyter-widgets/controls",
            "_model_module_version": "1.5.0",
            "_model_name": "DescriptionStyleModel",
            "_view_count": null,
            "_view_module": "@jupyter-widgets/base",
            "_view_module_version": "1.2.0",
            "_view_name": "StyleView",
            "description_width": ""
          }
        }
      }
    }
  },
  "nbformat": 4,
  "nbformat_minor": 0
}
