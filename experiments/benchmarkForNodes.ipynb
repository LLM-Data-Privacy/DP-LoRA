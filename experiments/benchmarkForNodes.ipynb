{
 "cells": [
  {
   "cell_type": "code",
   "execution_count": null,
   "metadata": {},
   "outputs": [],
   "source": [
    "from transformers import AutoTokenizer, AutoModel, AutoConfig\n",
    "from peft import PeftConfig, PeftModel\n",
    "import torch\n",
    "import accelerate\n",
    "import bitsandbytes"
   ]
  },
  {
   "cell_type": "code",
   "execution_count": null,
   "metadata": {},
   "outputs": [],
   "source": [
    "# Paths to your models\n",
    "model_paths = [\"./models/finetuned_model_0\", \"./models/finetuned_model_1\", \"./models/finetuned_model_2\"]"
   ]
  },
  {
   "cell_type": "code",
   "execution_count": null,
   "metadata": {},
   "outputs": [],
   "source": [
    "model_name = \"THUDM/chatglm2-6b\"\n",
    "tokenizer = AutoTokenizer.from_pretrained(model_name, trust_remote_code=True)\n",
    "model = AutoModel.from_pretrained(model_name, trust_remote_code=True, load_in_8bit=True, device=\"cuda\")"
   ]
  },
  {
   "cell_type": "code",
   "execution_count": null,
   "metadata": {},
   "outputs": [],
   "source": [
    "model = PeftModel.from_pretrained(model, model_paths[0], adapter_name='Institute_0')\n",
    "_ = model.load_adapter(model_paths[1], adapter_name='Institute_1')\n",
    "_ = model.load_adapter(model_paths[2], adapter_name='Institute_2')"
   ]
  },
  {
   "cell_type": "code",
   "execution_count": null,
   "metadata": {},
   "outputs": [],
   "source": [
    "adapters = [\"Institute_0\", \"Institute_1\", \"Institute_2\"]\n",
    "weights = [1.0, 1.0, 1.0]\n",
    "adapter_name = \"merge\"\n",
    "density = 0.2\n",
    "model.add_weighted_adapter(adapters, weights, adapter_name, combination_type=\"linear\")"
   ]
  },
  {
   "cell_type": "code",
   "execution_count": null,
   "metadata": {},
   "outputs": [],
   "source": [
    "model.set_adapter(\"merge\")"
   ]
  },
  {
   "cell_type": "code",
   "execution_count": null,
   "metadata": {},
   "outputs": [],
   "source": [
    "# Save the new model\n",
    "output_model_path = \"./aggregated_model\"\n",
    "model.save_pretrained(output_model_path)"
   ]
  },
  {
   "cell_type": "code",
   "execution_count": null,
   "metadata": {},
   "outputs": [],
   "source": [
    "model.add_weighted_adapter(adapters, weights, \"merge_ties\", combination_type=\"ties\", density=density)\n",
    "output_model_path = \"./aggregated_model\"\n",
    "model.save_pretrained(output_model_path)"
   ]
  },
  {
   "cell_type": "markdown",
   "metadata": {},
   "source": [
    "##"
   ]
  }
 ],
 "metadata": {
  "language_info": {
   "name": "python"
  }
 },
 "nbformat": 4,
 "nbformat_minor": 2
}
