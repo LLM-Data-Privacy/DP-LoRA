{
  "cells": [
    {
      "cell_type": "markdown",
      "metadata": {
        "id": "P-iD0bgbXDdC"
      },
      "source": [
        "欢迎来到30分钟的 Flower 联邦学习教程！\n",
        "\n",
        "在这个教程中，您将使用 [Flower](https://flower.dev/) 实现您的第一个联邦学习项目。\n",
        "\n",
        "🧑‍🏫 这个是一个从零开始的教程，不需要您熟悉联邦学习。只假设您具有基础的数据科学和Python编程知识。本教材并不要求有最基础的机器学习知识，但如果您已经知道相关内容，没有什么能阻止您按照自己的需求修改这些代码！\n",
        "\n",
        "> 在 [GitHub ⭐️](https://github.com/adap/flower) 上收藏 Flower，并加入 Flower 在 Slack 的社群来建立联系，提问，和获得帮助：[加入Slack 🌼](https://flower.dev/join-slack/)。我们非常希望在 #introductions 频道听到您的声音！如果有任何不清晰的地方，欢迎前往 #questions 频道进行提问。\n",
        "\n",
        "> 欢迎关注我们的**bilibili账号** [Flower联邦学习框架](https://space.bilibili.com/3546373735582167)！\n",
        "\n",
        "让我们开始吧！\n"
      ]
    },
    {
      "cell_type": "markdown",
      "metadata": {
        "id": "n0_nWgtUWbBr"
      },
      "source": [
        "## 补充内容\n",
        "\n",
        "但在开始之前，推荐您观看[Flower Youtube频道](https://www.youtube.com/@flowerlabs)上的一些英文视频教程，您可能会在本教程之后想要查看。我们会相对规律地发布新的内容：\n",
        "* **[视频]** quickstart-tensorflow: [关于如何开始使用Flower + Tensorflow/Keras的15分钟视频](https://www.youtube.com/watch?v=jOmmuzMIQ4c)\n",
        "* **[视频]** quickstart-pytorch: [关于如何开始使用Flower + PyTorch的20分钟视频](https://www.youtube.com/watch?v=jOmmuzMIQ4c)\n",
        "* **[视频]** Flower仿真-迷你系列: [9个逐行视频教程](https://www.youtube.com/watch?v=cRebUIGB5RU&list=PLNG4feLHqCWlnj8a_E1A_n5zr2-8pafTB)\n"
      ]
    },
    {
      "cell_type": "markdown",
      "metadata": {
        "id": "jfy1EuX7Xzfg"
      },
      "source": [
        "# 环境设置\n",
        "\n",
        "现在让我们真正开始这个教程！\n",
        "\n",
        "要开始使用Flower，一旦您激活了您的Python环境（例如通过`conda`、`virtualenv`、`pyenv`等），所需的准备工作非常少。如果您在Colab上运行这段代码，实际上没有什么需要做的，只需安装Flower和其他依赖项。下面的步骤已在Colab中进行了验证。首先，让我们安装Flower，然后选择您想要使用的机器学习框架和其他可能需要的额外依赖项。\n",
        "\n",
        "## 安装Flower\n",
        "\n",
        "您可以非常方便地从`pip`安装Flower：\n"
      ]
    },
    {
      "cell_type": "code",
      "execution_count": 6,
      "metadata": {
        "colab": {
          "base_uri": "https://localhost:8080/"
        },
        "id": "Gc_GOyNXXB35",
        "outputId": "a7f83537-412e-4576-914e-44d85f6d5ada"
      },
      "outputs": [
        {
          "ename": "SyntaxError",
          "evalue": "invalid syntax (1596128392.py, line 2)",
          "output_type": "error",
          "traceback": [
            "\u001b[1;36m  Cell \u001b[1;32mIn[6], line 2\u001b[1;36m\u001b[0m\n\u001b[1;33m    pip install -q flwr[simulation]\u001b[0m\n\u001b[1;37m        ^\u001b[0m\n\u001b[1;31mSyntaxError\u001b[0m\u001b[1;31m:\u001b[0m invalid syntax\n"
          ]
        }
      ],
      "source": [
        "# depending on your shell, you might need to add `\\` before `[` and `]`.\n",
        "pip install -q flwr[simulation]"
      ]
    },
    {
      "cell_type": "markdown",
      "metadata": {
        "id": "y58HdudsYWQP"
      },
      "source": [
        "我们将使用Flower中的 _仿真_ 模型，该模型允许您在不手动管理设备的额外负担下运行大量的客户端。这是通过`虚拟客户端引擎`(Virtual Client Engine)实现的，这是运行[FL仿真](https://flower.dev/docs/framework/how-to-run-simulations.html)的Flower的核心组件。使用仿真，无论您是在笔记本电脑上运行代码，还是在拥有单个GPU的机器、多个GPU的服务器，甚至是多个服务器的集群上运行，您都可以动态地扩展实验。`虚拟客户端引擎`透明地处理一切，并且允许您指定应分配给每个虚拟客户端多少资源（例如，CPU核心，GPU VRAM）。\n"
      ]
    },
    {
      "cell_type": "markdown",
      "metadata": {
        "id": "2rkzo1M9a0io"
      },
      "source": [
        "## 安装您的机器学习框架\n",
        "\n",
        "Flower支持任何机器学习框架。Flower支持`PyTorch`、`Tensorflow`、`NumPy`、`🤗 Transformers`、`MXNet`、`JAX`、`scikit-learn`、`fastai`、`Pandas`。Flower还支持所有主要平台：`iOS`、`Android`和纯`C++`。您可以在[Flower仓库](https://github.com/adap/flower/tree/main/examples)的`examples/`目录中找到以上每个框架的 *quickstart-example* 并查阅[Flower文档](https://flower.dev/docs/)以获取更多学习材料。\n",
        "\n",
        "在本教程中，我们将使用PyTorch，因此让我们安装一个最新版本。在这个教程中，我们将使用一个小型模型，因此仅使用CPU进行训练就足够了（这也将防止Colab因超出资源限制而突然终止您的实验）。\n"
      ]
    },
    {
      "cell_type": "code",
      "execution_count": 5,
      "metadata": {
        "colab": {
          "base_uri": "https://localhost:8080/"
        },
        "id": "lqrJYPbZZ8aM",
        "outputId": "258d08c6-ff9c-4a51-e5d6-c424a67ff857"
      },
      "outputs": [
        {
          "ename": "SyntaxError",
          "evalue": "invalid syntax (1168649690.py, line 3)",
          "output_type": "error",
          "traceback": [
            "\u001b[1;36m  Cell \u001b[1;32mIn[5], line 3\u001b[1;36m\u001b[0m\n\u001b[1;33m    pip install torch==1.13.1+cpu torchvision==0.14.1+cpu torchaudio==0.13.1 --extra-index-url https://download.pytorch.org/whl/cpu\u001b[0m\n\u001b[1;37m        ^\u001b[0m\n\u001b[1;31mSyntaxError\u001b[0m\u001b[1;31m:\u001b[0m invalid syntax\n"
          ]
        }
      ],
      "source": [
        "# you might see a warning after running the command below, this can be ignored\n",
        "# if you are running this outside Colab, you probably need to adjust the command below\n",
        "pip install torch==1.13.1+cpu torchvision==0.14.1+cpu torchaudio==0.13.1 --extra-index-url https://download.pytorch.org/whl/cpu"
      ]
    },
    {
      "cell_type": "markdown",
      "metadata": {
        "id": "4UTuRurVeLDF"
      },
      "source": [
        "我们将安装一些您可能熟悉的其他依赖项。我们将使用这些依赖项进行绘图。"
      ]
    },
    {
      "cell_type": "code",
      "execution_count": 4,
      "metadata": {
        "colab": {
          "base_uri": "https://localhost:8080/"
        },
        "id": "ybSlTUVXeT3u",
        "outputId": "004f6ba3-8354-46b3-dccd-95cd9fd07790"
      },
      "outputs": [
        {
          "name": "stdout",
          "output_type": "stream",
          "text": [
            "Requirement already satisfied: matplotlib in c:\\users\\bei_0\\appdata\\local\\programs\\python\\python311\\lib\\site-packages (3.8.2)Note: you may need to restart the kernel to use updated packages.\n",
            "\n",
            "Requirement already satisfied: contourpy>=1.0.1 in c:\\users\\bei_0\\appdata\\local\\programs\\python\\python311\\lib\\site-packages (from matplotlib) (1.2.0)\n",
            "Requirement already satisfied: cycler>=0.10 in c:\\users\\bei_0\\appdata\\local\\programs\\python\\python311\\lib\\site-packages (from matplotlib) (0.12.1)\n",
            "Requirement already satisfied: fonttools>=4.22.0 in c:\\users\\bei_0\\appdata\\local\\programs\\python\\python311\\lib\\site-packages (from matplotlib) (4.47.2)\n",
            "Requirement already satisfied: kiwisolver>=1.3.1 in c:\\users\\bei_0\\appdata\\local\\programs\\python\\python311\\lib\\site-packages (from matplotlib) (1.4.5)\n",
            "Requirement already satisfied: numpy<2,>=1.21 in c:\\users\\bei_0\\appdata\\local\\programs\\python\\python311\\lib\\site-packages (from matplotlib) (1.26.2)\n",
            "Requirement already satisfied: packaging>=20.0 in c:\\users\\bei_0\\appdata\\local\\programs\\python\\python311\\lib\\site-packages (from matplotlib) (23.2)\n",
            "Requirement already satisfied: pillow>=8 in c:\\users\\bei_0\\appdata\\local\\programs\\python\\python311\\lib\\site-packages (from matplotlib) (10.2.0)\n",
            "Requirement already satisfied: pyparsing>=2.3.1 in c:\\users\\bei_0\\appdata\\local\\programs\\python\\python311\\lib\\site-packages (from matplotlib) (3.0.9)\n",
            "Requirement already satisfied: python-dateutil>=2.7 in c:\\users\\bei_0\\appdata\\local\\programs\\python\\python311\\lib\\site-packages (from matplotlib) (2.8.2)\n",
            "Requirement already satisfied: six>=1.5 in c:\\users\\bei_0\\appdata\\local\\programs\\python\\python311\\lib\\site-packages (from python-dateutil>=2.7->matplotlib) (1.16.0)\n"
          ]
        }
      ],
      "source": [
        "pip install matplotlib"
      ]
    },
    {
      "cell_type": "markdown",
      "metadata": {
        "id": "mpmcL_STdjIo"
      },
      "source": [
        "# 集中式训练：传统的机器学习方式"
      ]
    },
    {
      "cell_type": "markdown",
      "metadata": {
        "id": "gvw2TZjSec6C"
      },
      "source": [
        "首先，让我们创建一个简单（但完整）的训练循环，这在集中式设置中是常见的。以这种方式开始我们的教程将使我们能够非常清晰地识别典型的机器学习流程中哪些部分是集中式和联邦训练共有的，以及哪些部分是截然不同的。\n",
        "\n",
        "对于本教程，我们将设计一个用于[MNIST数字](https://en.wikipedia.org/wiki/MNIST_database)的图像分类流程，并使用一个简单的CNN模型作为要训练的网络。MNIST数据集由`28x28`的灰度图像组成，其中包含从0到9的数字（即总共有10个类别）。\n",
        "\n",
        "## 数据集\n",
        "\n",
        "让我们从构建数据集开始。"
      ]
    },
    {
      "cell_type": "code",
      "execution_count": 8,
      "metadata": {
        "id": "p9aFBjd1cpHs"
      },
      "outputs": [],
      "source": [
        "# we naturally first need to import torch and torchvision\n",
        "import torch\n",
        "from torch.utils.data import DataLoader\n",
        "from torchvision.transforms import ToTensor, Normalize, Compose\n",
        "from torchvision.datasets import MNIST\n",
        "\n",
        "\n",
        "def get_mnist(data_path: str = './data'):\n",
        "    '''This function downloads the MNIST dataset into the `data_path`\n",
        "    directory if it is not there already. WE construct the train/test\n",
        "    split by converting the images into tensors and normalising them'''\n",
        "\n",
        "    # transformation to convert images to tensors and apply normalisation\n",
        "    tr = Compose([ToTensor(), Normalize((0.1307,), (0.3081,))])\n",
        "\n",
        "    # prepare train and test set\n",
        "    trainset = MNIST(data_path, train=True, download=True, transform=tr)\n",
        "    testset = MNIST(data_path, train=False, download=True, transform=tr)\n",
        "\n",
        "    return trainset, testset"
      ]
    },
    {
      "cell_type": "markdown",
      "metadata": {
        "id": "vKoQfqgYgwg0"
      },
      "source": [
        "运行上面的代码，并进行一些可视化，以更好地了解我们正在处理的数据！"
      ]
    },
    {
      "cell_type": "code",
      "execution_count": 10,
      "metadata": {
        "id": "pS8sL2hDgvZN"
      },
      "outputs": [],
      "source": [
        "trainset, testset = get_mnist()"
      ]
    },
    {
      "cell_type": "markdown",
      "metadata": {
        "id": "iNA-6AcYhYVM"
      },
      "source": [
        "直接键入变量名，我们可以快速预览我们的数据集。例如，下面您可以看到`trainset`有6万个训练样本，并将使用我们在`get_mnist()`中定义的转换规则。"
      ]
    },
    {
      "cell_type": "code",
      "execution_count": 12,
      "metadata": {
        "colab": {
          "base_uri": "https://localhost:8080/"
        },
        "id": "pWsIHsq-g4nX",
        "outputId": "0b33a75b-0897-45aa-b8d8-a720de7b243d"
      },
      "outputs": [
        {
          "data": {
            "text/plain": [
              "Dataset MNIST\n",
              "    Number of datapoints: 60000\n",
              "    Root location: ./data\n",
              "    Split: Train\n",
              "    StandardTransform\n",
              "Transform: Compose(\n",
              "               ToTensor()\n",
              "               Normalize(mean=(0.1307,), std=(0.3081,))\n",
              "           )"
            ]
          },
          "execution_count": 12,
          "metadata": {},
          "output_type": "execute_result"
        }
      ],
      "source": [
        "trainset"
      ]
    },
    {
      "cell_type": "markdown",
      "metadata": {
        "id": "NY9bWlaMhweq"
      },
      "source": [
        "让我们创建一个信息密度更高的可视化。首先，通过构建一个直方图来查看标签的分布情况。然后，让我们可视化一些训练样本！"
      ]
    },
    {
      "cell_type": "code",
      "execution_count": 24,
      "metadata": {
        "colab": {
          "base_uri": "https://localhost:8080/",
          "height": 489
        },
        "id": "DCTjwpizikwy",
        "outputId": "782e19e7-df33-4111-fb66-38ee136a2822"
      },
      "outputs": [
        {
          "data": {
            "text/plain": [
              "Text(0.5, 1.0, 'Class labels distribution for MNIST')"
            ]
          },
          "execution_count": 24,
          "metadata": {},
          "output_type": "execute_result"
        },
        {
          "data": {
            "image/png": "[encoded data removed]",
            "text/plain": [
              "<Figure size 640x480 with 1 Axes>"
            ]
          },
          "metadata": {},
          "output_type": "display_data"
        }
      ],
      "source": [
        "import matplotlib.pyplot as plt\n",
        "\n",
        "\n",
        "# construct histogram\n",
        "all_labels = trainset.targets\n",
        "num_possible_labels = len(set(all_labels.numpy().tolist())) # this counts unique labels (so it should be = 10)\n",
        "plt.hist(all_labels, bins=num_possible_labels)\n",
        "\n",
        "# plot formatting\n",
        "plt.xticks(range(num_possible_labels))\n",
        "plt.grid()\n",
        "plt.xlabel('Label')\n",
        "plt.ylabel('Number of images')\n",
        "plt.title('Class labels distribution for MNIST')"
      ]
    },
    {
      "cell_type": "markdown",
      "metadata": {
        "id": "K7-K0bKamho7"
      },
      "source": [
        "让我们从数据集中可视化32张图像"
      ]
    },
    {
      "cell_type": "code",
      "execution_count": 14,
      "metadata": {
        "id": "ExGypiVsjMUv"
      },
      "outputs": [],
      "source": [
        "import random\n",
        "import numpy as np\n",
        "\n",
        "def visualise_n_random_examples(trainset_, n: int, verbose: bool = True):\n",
        "  # take n examples at random\n",
        "  idx =list(range(len(trainset_.data)))\n",
        "  random.shuffle(idx)\n",
        "  idx = idx[:n]\n",
        "  if verbose:\n",
        "    print(f\"will display images with idx: {idx}\")\n",
        "\n",
        "\n",
        "  # construct canvas\n",
        "  num_cols = 8\n",
        "  num_rows = int(np.ceil(len(idx)/num_cols))\n",
        "  fig, axs = plt.subplots(figsize=(16, num_rows*2), nrows=num_rows, ncols=num_cols)\n",
        "\n",
        "  # display images on canvas\n",
        "  for c_i, i in enumerate(idx):\n",
        "    axs.flat[c_i].imshow(trainset_.data[i], cmap='gray')"
      ]
    },
    {
      "cell_type": "code",
      "execution_count": 15,
      "metadata": {
        "colab": {
          "base_uri": "https://localhost:8080/",
          "height": 654
        },
        "id": "xA2s8vqkmkga",
        "outputId": "37e465cc-8a30-4e9a-89bd-da78caa9e70c"
      },
      "outputs": [
        {
          "name": "stdout",
          "output_type": "stream",
          "text": [
            "will display images with idx: [56718, 10999, 1887, 42482, 4407, 8970, 14497, 31479, 8945, 56171, 4043, 53649, 18604, 27728, 52419, 42982, 52310, 30489, 18929, 14599, 18764, 33634, 10296, 15093, 17813, 15556, 19330, 25609, 49922, 131, 41145, 26780]\n"
          ]
        },
        {
          "data": {
            "image/png": "[encoded data removed]",
            "text/plain": [
              "<Figure size 1600x800 with 32 Axes>"
            ]
          },
          "metadata": {},
          "output_type": "display_data"
        }
      ],
      "source": [
        "# it is likely that the plot this function will generate looks familiar to other plots you might have generated before\n",
        "# or you might have encountered in other tutorials. So far, we aren't doing anything new, Federated Learning will start soon!\n",
        "visualise_n_random_examples(trainset, n=32)"
      ]
    },
    {
      "cell_type": "markdown",
      "metadata": {
        "id": "PmGyjFEFhVwd"
      },
      "source": [
        "# CNN架构\n",
        "\n",
        "这个教程并不主要关注新颖的架构设计，因此我们用一个很简单的、适用于MNIST图像分类任务的典型CNN。"
      ]
    },
    {
      "cell_type": "code",
      "execution_count": 16,
      "metadata": {
        "id": "Nr4jR6tspOh4"
      },
      "outputs": [],
      "source": [
        "import torch.nn as nn\n",
        "import torch.nn.functional as F\n",
        "\n",
        "class Net(nn.Module):\n",
        "    def __init__(self, num_classes: int) -> None:\n",
        "        super(Net, self).__init__()\n",
        "        self.conv1 = nn.Conv2d(1, 6, 5)\n",
        "        self.pool = nn.MaxPool2d(2, 2)\n",
        "        self.conv2 = nn.Conv2d(6, 16, 5)\n",
        "        self.fc1 = nn.Linear(16 * 4 * 4, 120)\n",
        "        self.fc2 = nn.Linear(120, 84)\n",
        "        self.fc3 = nn.Linear(84, num_classes)\n",
        "\n",
        "    def forward(self, x: torch.Tensor) -> torch.Tensor:\n",
        "        x = self.pool(F.relu(self.conv1(x)))\n",
        "        x = self.pool(F.relu(self.conv2(x)))\n",
        "        x = x.view(-1, 16 * 4 * 4)\n",
        "        x = F.relu(self.fc1(x))\n",
        "        x = F.relu(self.fc2(x))\n",
        "        x = self.fc3(x)\n",
        "        return x"
      ]
    },
    {
      "cell_type": "markdown",
      "metadata": {
        "id": "5TJrrCBlpZOp"
      },
      "source": [
        "\n",
        "您也可以通过多种方式查看模型。例如，我们可以统计模型参数的数量。\n"
      ]
    },
    {
      "cell_type": "code",
      "execution_count": 17,
      "metadata": {
        "colab": {
          "base_uri": "https://localhost:8080/"
        },
        "id": "zdVK9c4hpYaC",
        "outputId": "59d95e27-f0ef-4607-bc19-efec3f8a0f4a"
      },
      "outputs": [
        {
          "name": "stdout",
          "output_type": "stream",
          "text": [
            "num_parameters = 44426\n"
          ]
        }
      ],
      "source": [
        "model = Net(num_classes=10)\n",
        "num_parameters = sum(value.numel() for value in model.state_dict().values())\n",
        "print(f\"{num_parameters = }\")"
      ]
    },
    {
      "cell_type": "markdown",
      "metadata": {
        "id": "XAXzw1dlp_oO"
      },
      "source": [
        "## 训练循环\n",
        "\n",
        "在PyTorch中，一个最简单的训练循环可以用三个函数构建：\n",
        "* `train()` 将使用给定的数据加载器来训练模型。\n",
        "* `test()` 将用于评估模型在保留数据(held-out data)上的性能，例如，一个训练集。\n",
        "* `run_centralised()` 将定义额外的元素（例如优化器）并在N个周期上运行训练循环。\n",
        "\n",
        "让我们构建这些函数！\n"
      ]
    },
    {
      "cell_type": "code",
      "execution_count": 20,
      "metadata": {
        "id": "DRhz5bcfpw06"
      },
      "outputs": [],
      "source": [
        "def train(net, trainloader, optimizer, epochs):\n",
        "    \"\"\"Train the network on the training set.\"\"\"\n",
        "    criterion = torch.nn.CrossEntropyLoss()\n",
        "    net.train()\n",
        "    for _ in range(epochs):\n",
        "        for images, labels in trainloader:\n",
        "            optimizer.zero_grad()\n",
        "            loss = criterion(net(images), labels)\n",
        "            loss.backward()\n",
        "            optimizer.step()\n",
        "    return net\n",
        "\n",
        "def test(net, testloader):\n",
        "    \"\"\"Validate the network on the entire test set.\"\"\"\n",
        "    criterion = torch.nn.CrossEntropyLoss()\n",
        "    correct, loss = 0, 0.0\n",
        "    net.eval()\n",
        "    with torch.no_grad():\n",
        "        for images, labels in testloader:\n",
        "            outputs = net(images)\n",
        "            loss += criterion(outputs, labels).item()\n",
        "            _, predicted = torch.max(outputs.data, 1)\n",
        "            correct += (predicted == labels).sum().item()\n",
        "    accuracy = correct / len(testloader.dataset)\n",
        "    return loss, accuracy\n",
        "\n",
        "\n",
        "def run_centralised(epochs: int, lr: float, momentum: float=0.9):\n",
        "    \"\"\"A minimal (but complete) training loop\"\"\"\n",
        "\n",
        "    # instantiate the model\n",
        "    model = Net(num_classes=10)\n",
        "\n",
        "    # define optimiser with hyperparameters supplied\n",
        "    optim = torch.optim.SGD(model.parameters(), lr=lr, momentum=momentum)\n",
        "\n",
        "    # get dataset and construct a dataloaders\n",
        "    trainset, testset = get_mnist()\n",
        "    trainloader = DataLoader(trainset, batch_size=64, shuffle=True, num_workers=2)\n",
        "    testloader = DataLoader(testset, batch_size=128)\n",
        "\n",
        "    # train for the specified number of epochs\n",
        "    trained_model = train(model, trainloader, optim, epochs)\n",
        "\n",
        "    # training is completed, then evaluate model on the test set\n",
        "    loss, accuracy = test(trained_model, testloader)\n",
        "    print(f\"{loss = }\")\n",
        "    print(f\"{accuracy = }\")"
      ]
    },
    {
      "cell_type": "markdown",
      "metadata": {
        "id": "76Q0UnqiukYT"
      },
      "source": [
        "让我们运行这个程序5个周期（您会看到它接近99%的准确率——这是从使用MNIST数据集的集中式设置中预期的结果）。\n"
      ]
    },
    {
      "cell_type": "code",
      "execution_count": 21,
      "metadata": {
        "colab": {
          "base_uri": "https://localhost:8080/"
        },
        "id": "xgJ6mdNSqzpI",
        "outputId": "08c8fc0e-45c1-48ad-e4e9-65979f4fee05"
      },
      "outputs": [
        {
          "name": "stdout",
          "output_type": "stream",
          "text": [
            "loss = 3.3287365073920228\n",
            "accuracy = 0.987\n"
          ]
        }
      ],
      "source": [
        "run_centralised(epochs=5, lr=0.01)"
      ]
    },
    {
      "cell_type": "markdown",
      "metadata": {
        "id": "pyz2gQaluw-5"
      },
      "source": [
        "上面的集中式方案对于某些应用和场景中的来说非常有效。然而，正如本次教程早些时候所讨论的，集中式训练不适用于更多的复杂场景，因为无法收集信息以构建统一（集中式）的数据集。\n",
        "\n",
        "# AI的未来是联邦学习\n",
        "\n",
        "联邦学习和集中式训练之间的主要区别是什么？如果您只能选择一个，您可能会说：\n",
        "* 联邦学习是分布式的——模型是由参与的客户端在设备上进行训练的。\n",
        "* 数据保持私密并由特定的*客户端* 拥有——数据从未发送到中央服务器。\n",
        "\n",
        "还有更多的区别。但上面的两点是始终需要考虑的主要区别，并且适用于所有类型的联邦学习（例如，*跨设备* 或*跨机构*, Cross-device or Cross-silo）。本教程接下来的部分将集中于将我们目前集中式设置的代码转化为使用Flower和PyTorch构建的联邦学习流程。\n",
        "\n",
        "让我们开始吧！🚀\n"
      ]
    },
    {
      "cell_type": "markdown",
      "metadata": {
        "id": "-Jv-H2HBzbPA"
      },
      "source": [
        "## 一个客户端，一个数据分区\n",
        "\n",
        "为了开始设计一个联邦学习（Federated Learning，简称FL）流程，我们需要满足FL的一个关键特性：每个客户端都有其自己的数据分区。为了用MNIST数据集实现这一点，我们将生成N个随机分区，其中N是我们FL系统中客户端的总数。\n"
      ]
    },
    {
      "cell_type": "code",
      "execution_count": 22,
      "metadata": {
        "id": "Lgc5C6yltJCv"
      },
      "outputs": [],
      "source": [
        "from torch.utils.data import random_split\n",
        "\n",
        "def prepare_dataset(num_partitions: int,\n",
        "                    batch_size: int,\n",
        "                    val_ratio: float = 0.1):\n",
        "\n",
        "    \"\"\"This function partitions the training set into N disjoint\n",
        "    subsets, each will become the local dataset of a client. This\n",
        "    function also subsequently partitions each traininset partition\n",
        "    into train and validation. The test set is left intact and will\n",
        "    be used by the central server to asses the performance of the\n",
        "    global model. \"\"\"\n",
        "\n",
        "    # get the MNIST dataset\n",
        "    trainset, testset = get_mnist()\n",
        "\n",
        "    # split trainset into `num_partitions` trainsets\n",
        "    num_images = len(trainset) // num_partitions\n",
        "\n",
        "    partition_len = [num_images] * num_partitions\n",
        "\n",
        "    trainsets = random_split(trainset, partition_len, torch.Generator().manual_seed(2023))\n",
        "\n",
        "    # create dataloaders with train+val support\n",
        "    trainloaders = []\n",
        "    valloaders = []\n",
        "    for trainset_ in trainsets:\n",
        "        num_total = len(trainset_)\n",
        "        num_val = int(val_ratio * num_total)\n",
        "        num_train = num_total - num_val\n",
        "\n",
        "        for_train, for_val = random_split(trainset_, [num_train, num_val], torch.Generator().manual_seed(2023))\n",
        "\n",
        "        trainloaders.append(DataLoader(for_train, batch_size=batch_size, shuffle=True, num_workers=2))\n",
        "        valloaders.append(DataLoader(for_val, batch_size=batch_size, shuffle=False, num_workers=2))\n",
        "\n",
        "    # create dataloader for the test set\n",
        "    testloader = DataLoader(testset, batch_size=128)\n",
        "\n",
        "    return trainloaders, valloaders, testloader"
      ]
    },
    {
      "cell_type": "markdown",
      "metadata": {
        "id": "9sXWjalq-G39"
      },
      "source": [
        "让我们创建100个分区，并从其中一个分区提取一些统计信息。\n"
      ]
    },
    {
      "cell_type": "code",
      "execution_count": 25,
      "metadata": {
        "colab": {
          "base_uri": "https://localhost:8080/",
          "height": 507
        },
        "id": "I0LbJhrC0evC",
        "outputId": "407a08e6-a0f5-48fe-d84b-3403206ddbac"
      },
      "outputs": [
        {
          "name": "stdout",
          "output_type": "stream",
          "text": [
            "number of images: 540\n"
          ]
        },
        {
          "data": {
            "text/plain": [
              "Text(0.5, 1.0, 'Class labels distribution for MNIST')"
            ]
          },
          "execution_count": 25,
          "metadata": {},
          "output_type": "execute_result"
        },
        {
          "data": {
            "image/png": "[encoded data removed]",
            "text/plain": [
              "<Figure size 640x480 with 1 Axes>"
            ]
          },
          "metadata": {},
          "output_type": "display_data"
        }
      ],
      "source": [
        "trainloaders, valloaders, testloader = prepare_dataset(num_partitions=100,\n",
        "                                                       batch_size=32)\n",
        "\n",
        "# first partition\n",
        "train_partition = trainloaders[0].dataset\n",
        "\n",
        "# count data points\n",
        "partition_indices = train_partition.indices\n",
        "print(f\"number of images: {len(partition_indices)}\")\n",
        "\n",
        "# visualise histogram\n",
        "plt.hist(train_partition.dataset.dataset.targets[partition_indices], bins=10)\n",
        "plt.grid()\n",
        "plt.xticks(range(10))\n",
        "plt.xlabel('Label')\n",
        "plt.ylabel('Number of images')\n",
        "plt.title('Class labels distribution for MNIST')"
      ]
    },
    {
      "cell_type": "markdown",
      "metadata": {
        "id": "me-cNRBO_-fa"
      },
      "source": [
        "如您所见，这个分区的直方图与我们一开始考虑整个数据集时获得的直方图略有不同。由于我们的数据分区是通过以独立同分布（IID）的方式对MNIST数据集进行采样来人为构造的，因此我们的联邦学习示例不会面临严重的*数据异质性* 问题（这是一个相当[活跃的研究课题](https://arxiv.org/abs/1912.04977)）。\n",
        "\n",
        "接下来让我们定义我们的FL客户端将如何表现。\n",
        "\n",
        "## 定义一个Flower客户端\n",
        "\n",
        "您可以将FL中的客户端视为拥有一些数据并使用这些数据训练模型的实体。问题是，该模型是由多个客户端（有时多达数十万个）*协作* 进行训练的。并且在FL的大多数实例中，模型是由中央服务器发送的。\n",
        "\n",
        "Flower客户端是一个具有四个不同方法的简单Python类：\n",
        "\n",
        "* `fit()`：通过此方法，客户端使用其自己的数据进行设备上的训练若干周期（epoch）。最后，产生的模型会发送回服务器进行聚合。\n",
        "\n",
        "* `evaluate()`：通过此方法，服务器可以评估全局模型在客户端的本地验证集上的性能。这可以用于例如当服务器上没有用于验证/测试的集中式数据集时。此外，此方法还可以用于评估正在联合的模型的个性化程度。\n",
        "\n",
        "* `set_parameters()`：此方法接受服务器发送的参数，并使用它们来初始化特定于ML框架的本地模型（例如，TF、Pytorch等）。\n",
        "\n",
        "* `get_parameters()`：它从本地模型中提取参数，并将它们转换成一组NumPy数组。这种与ML框架无关的模型表示将被发送到服务器。\n",
        "\n",
        "让我们从 import flwr 开始！\n"
      ]
    },
    {
      "cell_type": "code",
      "execution_count": null,
      "metadata": {
        "id": "GckcVE2hH5UV"
      },
      "outputs": [],
      "source": [
        "import flwr as fl"
      ]
    },
    {
      "cell_type": "markdown",
      "metadata": {
        "id": "w3zwIYgVH5wU"
      },
      "source": [
        "现在定义一下我们的Flower客户端类："
      ]
    },
    {
      "cell_type": "code",
      "execution_count": null,
      "metadata": {
        "id": "uXdiNmCE_90y"
      },
      "outputs": [],
      "source": [
        "from collections import OrderedDict\n",
        "from typing import Dict, Tuple\n",
        "\n",
        "import torch\n",
        "from flwr.common import NDArrays, Scalar\n",
        "\n",
        "class FlowerClient(fl.client.NumPyClient):\n",
        "    def __init__(self,\n",
        "                 trainloader,\n",
        "                 vallodaer) -> None:\n",
        "        super().__init__()\n",
        "\n",
        "        self.trainloader = trainloader\n",
        "        self.valloader = vallodaer\n",
        "        self.model = Net(num_classes=10)\n",
        "\n",
        "    def set_parameters(self, parameters):\n",
        "        \"\"\"With the model parameters received from the server,\n",
        "        overwrite the uninitialise model in this class with them.\"\"\"\n",
        "\n",
        "        params_dict = zip(self.model.state_dict().keys(), parameters)\n",
        "        state_dict = OrderedDict({k: torch.Tensor(v) for k, v in params_dict})\n",
        "        # now replace the parameters\n",
        "        self.model.load_state_dict(state_dict, strict=True)\n",
        "\n",
        "    def get_parameters(self, config: Dict[str, Scalar]):\n",
        "        \"\"\"Extract all model parameters and convert them to a list of\n",
        "        NumPy arrays. The server doesn't work with PyTorch/TF/etc.\"\"\"\n",
        "        return [val.cpu().numpy() for _, val in self.model.state_dict().items()]\n",
        "\n",
        "    def fit(self, parameters: NDArrays, config: Dict[str, Scalar]):\n",
        "        \"\"\"This method train the model using the parameters sent by the\n",
        "        server on the dataset of this client. At then end, the parameters\n",
        "        of the locally trained model are communicated back to the server\"\"\"\n",
        "\n",
        "        # copy parameters sent by the server into client's local model\n",
        "        self.set_parameters(parameters)\n",
        "\n",
        "        # Define the optimizer -------------------------------------------------------------- Essentially the same as in the centralised example above\n",
        "        optim = torch.optim.SGD(self.model.parameters(), lr=0.01, momentum=0.9)\n",
        "\n",
        "        # do local training  -------------------------------------------------------------- Essentially the same as in the centralised example above (but now using the client's data instead of the whole dataset)\n",
        "        train(self.model, self.trainloader, optim, epochs=1)\n",
        "\n",
        "        # return the model parameters to the server as well as extra info (number of training examples in this case)\n",
        "        return self.get_parameters({}), len(self.trainloader), {}\n",
        "\n",
        "    def evaluate(self, parameters: NDArrays, config: Dict[str, Scalar]):\n",
        "        \"\"\"Evaluate the model sent by the server on this client's\n",
        "        local validation set. Then return performance metrics.\"\"\"\n",
        "\n",
        "        self.set_parameters(parameters)\n",
        "        loss, accuracy = test(self.model, self.valloader) # <-------------------------- calls the `test` function, just what we did in the centralised setting (but this time using the client's local validation set)\n",
        "        # send statistics back to the server\n",
        "        return float(loss), len(self.valloader), {'accuracy': accuracy}"
      ]
    },
    {
      "cell_type": "markdown",
      "metadata": {
        "id": "d5Ku-Z_1Jkvz"
      },
      "source": [
        "请花费几分钟时间仔细查看上面的`FlowerClient`类。如果有不清楚的地方，请提问！\n",
        "\n",
        "你们中观察敏锐的可能已经意识到，如果我们将客户端的 `fit()` 和 `evaluate()` 方法融合在一起，我们将得到与本教程中的集中式训练部分中使用的 `run_centralised()` 函数几乎相同的东西。这是真的！！在联邦学习中，客户端进行本地训练的方式利用了与更传统的集中式设置相同的原理。关键的不同之处在于，现在的数据集要小得多，而且永远不会被运行 FL 工作负载的实体（即中央服务器）“看到”。\n",
        "\n",
        "说到中央服务器。。。 我们应该定义一下我们希望使用哪种策略，以便客户端在 `fit()` 方法结束时将更新的模型发送回服务器进行聚合。\n",
        "\n",
        "## 选择 Flower 策略（Strategy）\n",
        "\n",
        "策略（Strategy）是联邦学习实验的核心。它参与到 FL 管道的所有阶段：抽样客户端；将 _全局模型_ 发送到客户端，以便他们可以执行 `fit()`；从客户端接收更新的模型，并通过**聚合**这些来构建一个新的 _全局模型_ ；定义和执行全局或联邦评估；等等。\n",
        "\n",
        "Flower 自带了[许多内置的策略](https://github.com/adap/flower/tree/main/src/py/flwr/server/strategy)，在下一个版本中还会有更多。对于本教程，让我们使用可能是最受欢迎的策略之一：`FedAvg`。\n",
        "\n",
        "`FedAvg` 的工作方式很简单，但在实践中表现出奇地好。因此，它是开始您的实验的一个很好的策略。顾名思义，`FedAvg` 通过取所有参与该轮次的客户端发送的模型的平均值来派生出 _全局模型_ 的新版本。您可以在[论文中](https://arxiv.org/abs/1602.05629)阅读所有详细信息。\n",
        "\n",
        "让我们看看如何使用 Flower 定义 `FedAvg`。我们使用名为 `evaluate_fn` 的回调之一，以便我们可以使用一个小型的集中式测试集轻松评估全局模型的状态。注意，这个功能是由用户定义的，因为它需要在 ML 框架方面进行选择（如果您回想一下，Flower 是框架不可知的）。\n",
        "\n",
        "> 也就是说，只有在存在某种程度上遵循分布在各个客户端之间的数据的集中式数据集的情况下，才可能对全局模型进行集中式评估。在某些情况下，没有这样的集中式数据集用于验证是不可能的，因此唯一的解决方案是对 _全局模型_ 进行联邦评估。这是 Flower 中的默认行为。如果您在策略中没有指定 `evaluate_fn` 参数，那么，集中式全局评估将不会被执行。\n"
      ]
    },
    {
      "cell_type": "code",
      "execution_count": null,
      "metadata": {
        "id": "gUmUpH5t-Urn"
      },
      "outputs": [],
      "source": [
        "def get_evalulate_fn(testloader):\n",
        "    \"\"\"This is a function that returns a function. The returned\n",
        "    function (i.e. `evaluate_fn`) will be executed by the strategy\n",
        "    at the end of each round to evaluate the stat of the global\n",
        "    model.\"\"\"\n",
        "    def evaluate_fn(server_round: int, parameters, config):\n",
        "        \"\"\"This function is executed by the strategy it will instantiate\n",
        "        a model and replace its parameters with those from the global model.\n",
        "        The, the model will be evaluate on the test set (recall this is the\n",
        "        whole MNIST test set).\"\"\"\n",
        "\n",
        "        model = Net(num_classes=10)\n",
        "\n",
        "        # set parameters to the model\n",
        "        params_dict = zip(model.state_dict().keys(), parameters)\n",
        "        state_dict = OrderedDict({k: torch.Tensor(v) for k, v in params_dict})\n",
        "        model.load_state_dict(state_dict, strict=True)\n",
        "\n",
        "        # call test\n",
        "        loss, accuracy = test(model, testloader) # <-------------------------- calls the `test` function, just what we did in the centralised setting\n",
        "        return loss, {\"accuracy\": accuracy}\n",
        "\n",
        "    return evaluate_fn\n",
        "\n",
        "\n",
        "# now we can define the strategy\n",
        "strategy = fl.server.strategy.FedAvg(fraction_fit=0.1, # let's sample 10% of the client each round to do local training\n",
        "                                      fraction_evaluate=0.1, # after each round, let's sample 20% of the clients to asses how well the global model is doing\n",
        "                                      min_available_clients=100, # total number of clients available in the experiment\n",
        "                                      evaluate_fn=get_evalulate_fn(testloader)) # a callback to a function that the strategy can execute to evaluate the state of the global model on a centralised dataset\n"
      ]
    },
    {
      "cell_type": "markdown",
      "metadata": {
        "id": "4UV_kBVGRbQT"
      },
      "source": [
        "到目前为止，我们已经：\n",
        "* 为每个客户端创建了数据集分区\n",
        "* 定义了客户端类\n",
        "* 决定了要使用的策略\n",
        "\n",
        "现在我们只需要启动 Flower 的 FL（联邦学习）实验了。。。 别急！还有最后一个函数：让我们创建另一个回调，该回调将由 Simulation Engine 使用以生成虚拟客户端（VirtualClients）。正如您所看到的，这非常简单：构造一个 FlowerClient 对象，并为每个对象分配自己的数据分区。\n"
      ]
    },
    {
      "cell_type": "code",
      "execution_count": null,
      "metadata": {
        "id": "frPHAxUg-3Ev"
      },
      "outputs": [],
      "source": [
        "def generate_client_fn(trainloaders, valloaders):\n",
        "    def client_fn(cid: str):\n",
        "        \"\"\"Returns a FlowerClient containing the cid-th data partition\"\"\"\n",
        "\n",
        "        return FlowerClient(trainloader=trainloaders[int(cid)],\n",
        "                            vallodaer=valloaders[int(cid)])\n",
        "    return client_fn\n",
        "\n",
        "client_fn_callback = generate_client_fn(trainloaders, valloaders)"
      ]
    },
    {
      "cell_type": "markdown",
      "metadata": {
        "id": "uJ0swdTqSyuA"
      },
      "source": [
        "现在，我们准备好使用 Flower 的仿真来启动 FL（联邦学习）实验了："
      ]
    },
    {
      "cell_type": "code",
      "execution_count": null,
      "metadata": {
        "colab": {
          "base_uri": "https://localhost:8080/"
        },
        "id": "VpXEG9cxR9vu",
        "outputId": "c1ad9925-976b-4272-cfb1-c8dc070ff128"
      },
      "outputs": [
        {
          "name": "stderr",
          "output_type": "stream",
          "text": [
            "INFO flwr 2023-09-27 10:03:06,486 | app.py:175 | Starting Flower simulation, config: ServerConfig(num_rounds=10, round_timeout=None)\n",
            "INFO:flwr:Starting Flower simulation, config: ServerConfig(num_rounds=10, round_timeout=None)\n",
            "2023-09-27 10:03:13,377\tINFO worker.py:1621 -- Started a local Ray instance.\n",
            "INFO flwr 2023-09-27 10:03:19,046 | app.py:210 | Flower VCE: Ray initialized with resources: {'CPU': 2.0, 'node:__internal_head__': 1.0, 'node:172.28.0.12': 1.0, 'memory': 7814224283.0, 'object_store_memory': 3907112140.0}\n",
            "INFO:flwr:Flower VCE: Ray initialized with resources: {'CPU': 2.0, 'node:__internal_head__': 1.0, 'node:172.28.0.12': 1.0, 'memory': 7814224283.0, 'object_store_memory': 3907112140.0}\n",
            "INFO flwr 2023-09-27 10:03:19,058 | app.py:218 | No `client_resources` specified. Using minimal resources for clients.\n",
            "INFO:flwr:No `client_resources` specified. Using minimal resources for clients.\n",
            "INFO flwr 2023-09-27 10:03:19,066 | app.py:224 | Flower VCE: Resources for each Virtual Client: {'num_cpus': 1, 'num_gpus': 0.0}\n",
            "INFO:flwr:Flower VCE: Resources for each Virtual Client: {'num_cpus': 1, 'num_gpus': 0.0}\n",
            "INFO flwr 2023-09-27 10:03:19,157 | app.py:270 | Flower VCE: Creating VirtualClientEngineActorPool with 2 actors\n",
            "INFO:flwr:Flower VCE: Creating VirtualClientEngineActorPool with 2 actors\n",
            "INFO flwr 2023-09-27 10:03:19,165 | server.py:89 | Initializing global parameters\n",
            "INFO:flwr:Initializing global parameters\n",
            "INFO flwr 2023-09-27 10:03:19,178 | server.py:276 | Requesting initial parameters from one random client\n",
            "INFO:flwr:Requesting initial parameters from one random client\n",
            "\u001b[2m\u001b[36m(pid=3132)\u001b[0m 2023-09-27 10:03:25.890244: W tensorflow/compiler/tf2tensorrt/utils/py_utils.cc:38] TF-TRT Warning: Could not find TensorRT\n",
            "INFO flwr 2023-09-27 10:03:32,596 | server.py:280 | Received initial parameters from one random client\n",
            "INFO:flwr:Received initial parameters from one random client\n",
            "INFO flwr 2023-09-27 10:03:32,603 | server.py:91 | Evaluating initial parameters\n",
            "INFO:flwr:Evaluating initial parameters\n",
            "INFO flwr 2023-09-27 10:03:37,665 | server.py:94 | initial parameters (loss, other metrics): 182.3385796546936, {'accuracy': 0.0962}\n",
            "INFO:flwr:initial parameters (loss, other metrics): 182.3385796546936, {'accuracy': 0.0962}\n",
            "INFO flwr 2023-09-27 10:03:37,670 | server.py:104 | FL starting\n",
            "INFO:flwr:FL starting\n",
            "DEBUG flwr 2023-09-27 10:03:37,676 | server.py:222 | fit_round 1: strategy sampled 10 clients (out of 100)\n",
            "DEBUG:flwr:fit_round 1: strategy sampled 10 clients (out of 100)\n",
            "DEBUG flwr 2023-09-27 10:03:44,451 | server.py:236 | fit_round 1 received 10 results and 0 failures\n",
            "DEBUG:flwr:fit_round 1 received 10 results and 0 failures\n",
            "WARNING flwr 2023-09-27 10:03:44,483 | fedavg.py:242 | No fit_metrics_aggregation_fn provided\n",
            "WARNING:flwr:No fit_metrics_aggregation_fn provided\n",
            "INFO flwr 2023-09-27 10:03:47,348 | server.py:125 | fit progress: (1, 181.5571630001068, {'accuracy': 0.2108}, 9.67200255299997)\n",
            "INFO:flwr:fit progress: (1, 181.5571630001068, {'accuracy': 0.2108}, 9.67200255299997)\n",
            "DEBUG flwr 2023-09-27 10:03:47,355 | server.py:173 | evaluate_round 1: strategy sampled 10 clients (out of 100)\n",
            "DEBUG:flwr:evaluate_round 1: strategy sampled 10 clients (out of 100)\n",
            "DEBUG flwr 2023-09-27 10:03:52,301 | server.py:187 | evaluate_round 1 received 10 results and 0 failures\n",
            "DEBUG:flwr:evaluate_round 1 received 10 results and 0 failures\n",
            "WARNING flwr 2023-09-27 10:03:52,308 | fedavg.py:273 | No evaluate_metrics_aggregation_fn provided\n",
            "WARNING:flwr:No evaluate_metrics_aggregation_fn provided\n",
            "DEBUG flwr 2023-09-27 10:03:52,311 | server.py:222 | fit_round 2: strategy sampled 10 clients (out of 100)\n",
            "DEBUG:flwr:fit_round 2: strategy sampled 10 clients (out of 100)\n",
            "DEBUG flwr 2023-09-27 10:04:00,580 | server.py:236 | fit_round 2 received 10 results and 0 failures\n",
            "DEBUG:flwr:fit_round 2 received 10 results and 0 failures\n",
            "INFO flwr 2023-09-27 10:04:03,504 | server.py:125 | fit progress: (2, 180.62397694587708, {'accuracy': 0.2526}, 25.827992654000013)\n",
            "INFO:flwr:fit progress: (2, 180.62397694587708, {'accuracy': 0.2526}, 25.827992654000013)\n",
            "DEBUG flwr 2023-09-27 10:04:03,510 | server.py:173 | evaluate_round 2: strategy sampled 10 clients (out of 100)\n",
            "DEBUG:flwr:evaluate_round 2: strategy sampled 10 clients (out of 100)\n",
            "DEBUG flwr 2023-09-27 10:04:06,852 | server.py:187 | evaluate_round 2 received 10 results and 0 failures\n",
            "DEBUG:flwr:evaluate_round 2 received 10 results and 0 failures\n",
            "DEBUG flwr 2023-09-27 10:04:06,861 | server.py:222 | fit_round 3: strategy sampled 10 clients (out of 100)\n",
            "DEBUG:flwr:fit_round 3: strategy sampled 10 clients (out of 100)\n",
            "DEBUG flwr 2023-09-27 10:04:18,735 | server.py:236 | fit_round 3 received 10 results and 0 failures\n",
            "DEBUG:flwr:fit_round 3 received 10 results and 0 failures\n",
            "INFO flwr 2023-09-27 10:04:21,698 | server.py:125 | fit progress: (3, 178.64445686340332, {'accuracy': 0.3936}, 44.02212221499997)\n",
            "INFO:flwr:fit progress: (3, 178.64445686340332, {'accuracy': 0.3936}, 44.02212221499997)\n",
            "DEBUG flwr 2023-09-27 10:04:21,702 | server.py:173 | evaluate_round 3: strategy sampled 10 clients (out of 100)\n",
            "DEBUG:flwr:evaluate_round 3: strategy sampled 10 clients (out of 100)\n",
            "DEBUG flwr 2023-09-27 10:04:25,262 | server.py:187 | evaluate_round 3 received 10 results and 0 failures\n",
            "DEBUG:flwr:evaluate_round 3 received 10 results and 0 failures\n",
            "DEBUG flwr 2023-09-27 10:04:25,266 | server.py:222 | fit_round 4: strategy sampled 10 clients (out of 100)\n",
            "DEBUG:flwr:fit_round 4: strategy sampled 10 clients (out of 100)\n",
            "DEBUG flwr 2023-09-27 10:04:32,869 | server.py:236 | fit_round 4 received 10 results and 0 failures\n",
            "DEBUG:flwr:fit_round 4 received 10 results and 0 failures\n",
            "INFO flwr 2023-09-27 10:04:37,837 | server.py:125 | fit progress: (4, 173.17717218399048, {'accuracy': 0.4999}, 60.16135521199999)\n",
            "INFO:flwr:fit progress: (4, 173.17717218399048, {'accuracy': 0.4999}, 60.16135521199999)\n",
            "DEBUG flwr 2023-09-27 10:04:37,842 | server.py:173 | evaluate_round 4: strategy sampled 10 clients (out of 100)\n",
            "DEBUG:flwr:evaluate_round 4: strategy sampled 10 clients (out of 100)\n",
            "DEBUG flwr 2023-09-27 10:04:40,949 | server.py:187 | evaluate_round 4 received 10 results and 0 failures\n",
            "DEBUG:flwr:evaluate_round 4 received 10 results and 0 failures\n",
            "DEBUG flwr 2023-09-27 10:04:40,954 | server.py:222 | fit_round 5: strategy sampled 10 clients (out of 100)\n",
            "DEBUG:flwr:fit_round 5: strategy sampled 10 clients (out of 100)\n",
            "DEBUG flwr 2023-09-27 10:04:46,737 | server.py:236 | fit_round 5 received 10 results and 0 failures\n",
            "DEBUG:flwr:fit_round 5 received 10 results and 0 failures\n",
            "INFO flwr 2023-09-27 10:04:50,439 | server.py:125 | fit progress: (5, 148.13845646381378, {'accuracy': 0.6377}, 72.76364898199995)\n",
            "INFO:flwr:fit progress: (5, 148.13845646381378, {'accuracy': 0.6377}, 72.76364898199995)\n",
            "DEBUG flwr 2023-09-27 10:04:50,451 | server.py:173 | evaluate_round 5: strategy sampled 10 clients (out of 100)\n",
            "DEBUG:flwr:evaluate_round 5: strategy sampled 10 clients (out of 100)\n",
            "DEBUG flwr 2023-09-27 10:04:55,486 | server.py:187 | evaluate_round 5 received 10 results and 0 failures\n",
            "DEBUG:flwr:evaluate_round 5 received 10 results and 0 failures\n",
            "DEBUG flwr 2023-09-27 10:04:55,491 | server.py:222 | fit_round 6: strategy sampled 10 clients (out of 100)\n",
            "DEBUG:flwr:fit_round 6: strategy sampled 10 clients (out of 100)\n",
            "DEBUG flwr 2023-09-27 10:05:02,174 | server.py:236 | fit_round 6 received 10 results and 0 failures\n",
            "DEBUG:flwr:fit_round 6 received 10 results and 0 failures\n",
            "INFO flwr 2023-09-27 10:05:05,075 | server.py:125 | fit progress: (6, 65.81958168745041, {'accuracy': 0.7764}, 87.39936015)\n",
            "INFO:flwr:fit progress: (6, 65.81958168745041, {'accuracy': 0.7764}, 87.39936015)\n",
            "DEBUG flwr 2023-09-27 10:05:05,082 | server.py:173 | evaluate_round 6: strategy sampled 10 clients (out of 100)\n",
            "DEBUG:flwr:evaluate_round 6: strategy sampled 10 clients (out of 100)\n",
            "DEBUG flwr 2023-09-27 10:05:07,763 | server.py:187 | evaluate_round 6 received 10 results and 0 failures\n",
            "DEBUG:flwr:evaluate_round 6 received 10 results and 0 failures\n",
            "DEBUG flwr 2023-09-27 10:05:07,770 | server.py:222 | fit_round 7: strategy sampled 10 clients (out of 100)\n",
            "DEBUG:flwr:fit_round 7: strategy sampled 10 clients (out of 100)\n",
            "DEBUG flwr 2023-09-27 10:05:15,931 | server.py:236 | fit_round 7 received 10 results and 0 failures\n",
            "DEBUG:flwr:fit_round 7 received 10 results and 0 failures\n",
            "INFO flwr 2023-09-27 10:05:19,913 | server.py:125 | fit progress: (7, 48.623614609241486, {'accuracy': 0.8334}, 102.23737588799997)\n",
            "INFO:flwr:fit progress: (7, 48.623614609241486, {'accuracy': 0.8334}, 102.23737588799997)\n",
            "DEBUG flwr 2023-09-27 10:05:19,924 | server.py:173 | evaluate_round 7: strategy sampled 10 clients (out of 100)\n",
            "DEBUG:flwr:evaluate_round 7: strategy sampled 10 clients (out of 100)\n",
            "DEBUG flwr 2023-09-27 10:05:22,855 | server.py:187 | evaluate_round 7 received 10 results and 0 failures\n",
            "DEBUG:flwr:evaluate_round 7 received 10 results and 0 failures\n",
            "DEBUG flwr 2023-09-27 10:05:22,858 | server.py:222 | fit_round 8: strategy sampled 10 clients (out of 100)\n",
            "DEBUG:flwr:fit_round 8: strategy sampled 10 clients (out of 100)\n",
            "DEBUG flwr 2023-09-27 10:05:27,942 | server.py:236 | fit_round 8 received 10 results and 0 failures\n",
            "DEBUG:flwr:fit_round 8 received 10 results and 0 failures\n",
            "INFO flwr 2023-09-27 10:05:32,047 | server.py:125 | fit progress: (8, 36.48377291858196, {'accuracy': 0.8612}, 114.37147528799994)\n",
            "INFO:flwr:fit progress: (8, 36.48377291858196, {'accuracy': 0.8612}, 114.37147528799994)\n",
            "DEBUG flwr 2023-09-27 10:05:32,056 | server.py:173 | evaluate_round 8: strategy sampled 10 clients (out of 100)\n",
            "DEBUG:flwr:evaluate_round 8: strategy sampled 10 clients (out of 100)\n",
            "DEBUG flwr 2023-09-27 10:05:36,926 | server.py:187 | evaluate_round 8 received 10 results and 0 failures\n",
            "DEBUG:flwr:evaluate_round 8 received 10 results and 0 failures\n",
            "DEBUG flwr 2023-09-27 10:05:36,931 | server.py:222 | fit_round 9: strategy sampled 10 clients (out of 100)\n",
            "DEBUG:flwr:fit_round 9: strategy sampled 10 clients (out of 100)\n",
            "DEBUG flwr 2023-09-27 10:05:43,394 | server.py:236 | fit_round 9 received 10 results and 0 failures\n",
            "DEBUG:flwr:fit_round 9 received 10 results and 0 failures\n",
            "INFO flwr 2023-09-27 10:05:46,335 | server.py:125 | fit progress: (9, 31.840581879019737, {'accuracy': 0.8895}, 128.658960546)\n",
            "INFO:flwr:fit progress: (9, 31.840581879019737, {'accuracy': 0.8895}, 128.658960546)\n",
            "DEBUG flwr 2023-09-27 10:05:46,347 | server.py:173 | evaluate_round 9: strategy sampled 10 clients (out of 100)\n",
            "DEBUG:flwr:evaluate_round 9: strategy sampled 10 clients (out of 100)\n",
            "DEBUG flwr 2023-09-27 10:05:49,110 | server.py:187 | evaluate_round 9 received 10 results and 0 failures\n",
            "DEBUG:flwr:evaluate_round 9 received 10 results and 0 failures\n",
            "DEBUG flwr 2023-09-27 10:05:49,118 | server.py:222 | fit_round 10: strategy sampled 10 clients (out of 100)\n",
            "DEBUG:flwr:fit_round 10: strategy sampled 10 clients (out of 100)\n",
            "DEBUG flwr 2023-09-27 10:05:58,690 | server.py:236 | fit_round 10 received 10 results and 0 failures\n",
            "DEBUG:flwr:fit_round 10 received 10 results and 0 failures\n",
            "INFO flwr 2023-09-27 10:06:01,836 | server.py:125 | fit progress: (10, 27.032609850168228, {'accuracy': 0.8942}, 144.16060670399997)\n",
            "INFO:flwr:fit progress: (10, 27.032609850168228, {'accuracy': 0.8942}, 144.16060670399997)\n",
            "DEBUG flwr 2023-09-27 10:06:01,841 | server.py:173 | evaluate_round 10: strategy sampled 10 clients (out of 100)\n",
            "DEBUG:flwr:evaluate_round 10: strategy sampled 10 clients (out of 100)\n",
            "DEBUG flwr 2023-09-27 10:06:04,708 | server.py:187 | evaluate_round 10 received 10 results and 0 failures\n",
            "DEBUG:flwr:evaluate_round 10 received 10 results and 0 failures\n",
            "INFO flwr 2023-09-27 10:06:04,712 | server.py:153 | FL finished in 147.03631478299997\n",
            "INFO:flwr:FL finished in 147.03631478299997\n",
            "INFO flwr 2023-09-27 10:06:04,719 | app.py:225 | app_fit: losses_distributed [(1, 4.590751194953919), (2, 4.571150398254394), (3, 4.511737418174744), (4, 4.387845301628113), (5, 3.785788905620575), (6, 1.6763290643692017), (7, 1.3322547912597655), (8, 0.9265244215726852), (9, 0.8165400862693787), (10, 0.855966117233038)]\n",
            "INFO:flwr:app_fit: losses_distributed [(1, 4.590751194953919), (2, 4.571150398254394), (3, 4.511737418174744), (4, 4.387845301628113), (5, 3.785788905620575), (6, 1.6763290643692017), (7, 1.3322547912597655), (8, 0.9265244215726852), (9, 0.8165400862693787), (10, 0.855966117233038)]\n",
            "INFO flwr 2023-09-27 10:06:04,722 | app.py:226 | app_fit: metrics_distributed_fit {}\n",
            "INFO:flwr:app_fit: metrics_distributed_fit {}\n",
            "INFO flwr 2023-09-27 10:06:04,725 | app.py:227 | app_fit: metrics_distributed {}\n",
            "INFO:flwr:app_fit: metrics_distributed {}\n",
            "INFO flwr 2023-09-27 10:06:04,727 | app.py:228 | app_fit: losses_centralized [(0, 182.3385796546936), (1, 181.5571630001068), (2, 180.62397694587708), (3, 178.64445686340332), (4, 173.17717218399048), (5, 148.13845646381378), (6, 65.81958168745041), (7, 48.623614609241486), (8, 36.48377291858196), (9, 31.840581879019737), (10, 27.032609850168228)]\n",
            "INFO:flwr:app_fit: losses_centralized [(0, 182.3385796546936), (1, 181.5571630001068), (2, 180.62397694587708), (3, 178.64445686340332), (4, 173.17717218399048), (5, 148.13845646381378), (6, 65.81958168745041), (7, 48.623614609241486), (8, 36.48377291858196), (9, 31.840581879019737), (10, 27.032609850168228)]\n",
            "INFO flwr 2023-09-27 10:06:04,730 | app.py:229 | app_fit: metrics_centralized {'accuracy': [(0, 0.0962), (1, 0.2108), (2, 0.2526), (3, 0.3936), (4, 0.4999), (5, 0.6377), (6, 0.7764), (7, 0.8334), (8, 0.8612), (9, 0.8895), (10, 0.8942)]}\n",
            "INFO:flwr:app_fit: metrics_centralized {'accuracy': [(0, 0.0962), (1, 0.2108), (2, 0.2526), (3, 0.3936), (4, 0.4999), (5, 0.6377), (6, 0.7764), (7, 0.8334), (8, 0.8612), (9, 0.8895), (10, 0.8942)]}\n"
          ]
        }
      ],
      "source": [
        "history = fl.simulation.start_simulation(\n",
        "    client_fn=client_fn_callback, # a callback to construct a client\n",
        "    num_clients=100, # total number of clients in the experiment\n",
        "    config=fl.server.ServerConfig(num_rounds=10), # let's run for 10 rounds\n",
        "    strategy=strategy, # the strategy that will orchestrate the whole FL pipeline\n",
        ")"
      ]
    },
    {
      "cell_type": "markdown",
      "metadata": {
        "id": "2hLLbDCEUat7"
      },
      "source": [
        "在仅使用 CPU 的 Colab 实例上进行 10 轮应该不到 2 分钟就能完成 <-- Flower 仿真是非常快的！🚀\n",
        "\n",
        "然后，您可以使用返回的 `History` 对象将结果保存到磁盘或进行一些可视化（当然，两者也可以同时进行，或者如果您喜欢混乱，也可以都不做）。下面，您可以看到如何绘制每一轮（包括实验一开始）的全局模型的集中精确度。这是我们传递给策略的 `evaluate_fn()` 函数所报告的。\n"
      ]
    },
    {
      "cell_type": "code",
      "execution_count": null,
      "metadata": {
        "colab": {
          "base_uri": "https://localhost:8080/",
          "height": 527
        },
        "id": "EQ8GnlFVTJkF",
        "outputId": "30092471-e716-4ba1-c7ef-bd262db6cd43"
      },
      "outputs": [
        {
          "name": "stdout",
          "output_type": "stream",
          "text": [
            "history.metrics_centralized = {'accuracy': [(0, 0.0962), (1, 0.2108), (2, 0.2526), (3, 0.3936), (4, 0.4999), (5, 0.6377), (6, 0.7764), (7, 0.8334), (8, 0.8612), (9, 0.8895), (10, 0.8942)]}\n"
          ]
        },
        {
          "data": {
            "text/plain": [
              "Text(0.5, 1.0, 'MNIST - IID - 100 clients with 10 clients per round')"
            ]
          },
          "execution_count": 40,
          "metadata": {},
          "output_type": "execute_result"
        },
        {
          "data": {
            "image/png": "[encoded data removed]",
            "text/plain": [
              "<Figure size 640x480 with 1 Axes>"
            ]
          },
          "metadata": {},
          "output_type": "display_data"
        }
      ],
      "source": [
        "print(f\"{history.metrics_centralized = }\")\n",
        "\n",
        "global_accuracy_centralised = history.metrics_centralized['accuracy']\n",
        "round = [data[0] for data in global_accuracy_centralised]\n",
        "acc = [100.0*data[1] for data in global_accuracy_centralised]\n",
        "plt.plot(round, acc)\n",
        "plt.grid()\n",
        "plt.ylabel('Accuracy (%)')\n",
        "plt.xlabel('Round')\n",
        "plt.title('MNIST - IID - 100 clients with 10 clients per round')"
      ]
    },
    {
      "cell_type": "markdown",
      "metadata": {
        "id": "AD_HeErZWbBy"
      },
      "source": [
        "## 下一步？\n",
        "\n",
        "嗯，如果您喜欢这个内容，考虑在 GitHub 上收藏我们 ⭐️ -> https://github.com/adap/flower\n",
        "\n",
        "* **[文档]** 如何在 GPU 上运行您的 Flower 客户端？在 [Flower 仿真文档](https://flower.dev/docs/framework/how-to-run-simulations.html)中查找如何做到这一点。\n",
        "\n",
        "* **[视频]** 您可以关注我们的[详细逐行的 9-部视频教程](https://www.youtube.com/watch?v=cRebUIGB5RU&list=PLNG4feLHqCWlnj8a_E1A_n5zr2-8pafTB)，了解设计您自己的 Flower 模拟管道所需的一切。\n",
        "\n",
        "* 在 Flower 的 GitHub 上查看更多高级模拟示例：\n",
        "\n",
        "    * 使用 Tensorflow/Keras 的 Flower 模拟：[![在 Colab 中打开](https://colab.research.google.com/assets/colab-badge.svg)](https://github.com/adap/flower/tree/main/examples/simulation-tensorflow)\n",
        "    \n",
        "    * 使用 Pytorch 的 Flower 模拟：[![在 Colab 中打开](https://colab.research.google.com/assets/colab-badge.svg)](https://github.com/adap/flower/tree/main/examples/simulation-pytorch)\n",
        "\n",
        "* **[文档]** 所有 Flower 示例：https://flower.dev/docs/examples/\n",
        "\n",
        "* **[视频]** 我们的 Youtube 频道：https://www.youtube.com/@flowerlabs\n",
        "* **[视频]** 我们的**bilibili账号**：[Flower联邦学习框架](https://space.bilibili.com/3546373735582167)\n",
        "\n",
        "不要忘了加入我们的 Slack 频道：https://flower.dev/join-slack/\n"
      ]
    }
  ],
  "metadata": {
    "colab": {
      "provenance": []
    },
    "kernelspec": {
      "display_name": "Python 3",
      "name": "python3"
    },
    "language_info": {
      "codemirror_mode": {
        "name": "ipython",
        "version": 3
      },
      "file_extension": ".py",
      "mimetype": "text/x-python",
      "name": "python",
      "nbconvert_exporter": "python",
      "pygments_lexer": "ipython3",
      "version": "3.11.4"
    }
  },
  "nbformat": 4,
  "nbformat_minor": 0
}
